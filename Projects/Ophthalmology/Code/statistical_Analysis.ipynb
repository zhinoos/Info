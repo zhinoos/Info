{
 "cells": [
  {
   "cell_type": "markdown",
   "metadata": {},
   "source": [
    "##  Ophthalmology Data Analysis{-}"
   ]
  },
  {
   "cell_type": "markdown",
   "metadata": {},
   "source": [
    "**Zhinoos Razavi Hesabi**"
   ]
  },
  {
   "cell_type": "markdown",
   "metadata": {},
   "source": [
    "**Email address: zhinoos.razavi@gmail.com**"
   ]
  },
  {
   "cell_type": "markdown",
   "metadata": {},
   "source": [
    "**Phone number: 408-550-5312**  "
   ]
  },
  {
   "cell_type": "markdown",
   "metadata": {},
   "source": [
    "# Statistical Sample Exercise {-}"
   ]
  },
  {
   "cell_type": "markdown",
   "metadata": {},
   "source": [
    "## Problem Description {-}\n",
    "\n",
    "A researcher needs your statistical expertise to evaluate an intervention. The six-month intervention was to give subjects a special exercise plan. \n",
    "The researcher randomized 2,500 people to the treatment group (which receives the intervention) and another 2,500 to the control group (does not receive the intervention).  The physician wishes to evaluate the subjects’ health outcomes (weight and self-rated health) before the start of the intervention and immediately after the intervention.\n",
    "The physician wants to know whether the new exercise plan will affect one’s overall health (measured by change in weight and self-rated health) differently for those receiving the new exercise plan versus those not receiving the exercise plan.\n"
   ]
  },
  {
   "cell_type": "markdown",
   "metadata": {},
   "source": [
    "### Task 1. Create an analytic dataset by appropriately combining the 4 data files, and provide code for how you arrived at your analytic data set.  Describe your workflow. {-}"
   ]
  },
  {
   "cell_type": "code",
   "execution_count": 99,
   "metadata": {},
   "outputs": [],
   "source": [
    "# Load libraries and files\n",
    "import pandas as pd # data processing, CSV file I/O (e.g. pd.read_csv)\n",
    "import numpy as np\n",
    "import matplotlib.pyplot as plt # Visualisation \n",
    "%matplotlib inline\n",
    "import seaborn.apionly as sns # Visualisation\n",
    "from scipy import stats "
   ]
  },
  {
   "cell_type": "markdown",
   "metadata": {},
   "source": [
    "### Read in weight data {-}\n",
    "Here, we read in weight data from the two files and combine them. \n",
    "<br><br>Starting with the treatment group first. First, combining the post and pre weights into one row. The same will be done for control group also."
   ]
  },
  {
   "cell_type": "code",
   "execution_count": 100,
   "metadata": {},
   "outputs": [],
   "source": [
    "#read the data from csv file\n",
    "data3a_weight_trt = pd.read_csv(\"data3a_weight_trt.csv\")"
   ]
  },
  {
   "cell_type": "code",
   "execution_count": 101,
   "metadata": {},
   "outputs": [
    {
     "data": {
      "text/html": [
       "<div>\n",
       "<style scoped>\n",
       "    .dataframe tbody tr th:only-of-type {\n",
       "        vertical-align: middle;\n",
       "    }\n",
       "\n",
       "    .dataframe tbody tr th {\n",
       "        vertical-align: top;\n",
       "    }\n",
       "\n",
       "    .dataframe thead th {\n",
       "        text-align: right;\n",
       "    }\n",
       "</style>\n",
       "<table border=\"1\" class=\"dataframe\">\n",
       "  <thead>\n",
       "    <tr style=\"text-align: right;\">\n",
       "      <th></th>\n",
       "      <th>Id</th>\n",
       "      <th>PRE_WEIGHT</th>\n",
       "      <th>POST_WEIGHT</th>\n",
       "    </tr>\n",
       "  </thead>\n",
       "  <tbody>\n",
       "    <tr>\n",
       "      <th>0</th>\n",
       "      <td>1</td>\n",
       "      <td>135.2510</td>\n",
       "      <td>NaN</td>\n",
       "    </tr>\n",
       "    <tr>\n",
       "      <th>1</th>\n",
       "      <td>1</td>\n",
       "      <td>NaN</td>\n",
       "      <td>125.6678</td>\n",
       "    </tr>\n",
       "    <tr>\n",
       "      <th>2</th>\n",
       "      <td>2</td>\n",
       "      <td>154.8713</td>\n",
       "      <td>NaN</td>\n",
       "    </tr>\n",
       "    <tr>\n",
       "      <th>3</th>\n",
       "      <td>2</td>\n",
       "      <td>NaN</td>\n",
       "      <td>153.9882</td>\n",
       "    </tr>\n",
       "    <tr>\n",
       "      <th>4</th>\n",
       "      <td>3</td>\n",
       "      <td>128.1951</td>\n",
       "      <td>NaN</td>\n",
       "    </tr>\n",
       "  </tbody>\n",
       "</table>\n",
       "</div>"
      ],
      "text/plain": [
       "   Id  PRE_WEIGHT  POST_WEIGHT\n",
       "0   1    135.2510          NaN\n",
       "1   1         NaN     125.6678\n",
       "2   2    154.8713          NaN\n",
       "3   2         NaN     153.9882\n",
       "4   3    128.1951          NaN"
      ]
     },
     "execution_count": 101,
     "metadata": {},
     "output_type": "execute_result"
    }
   ],
   "source": [
    "#view the first 5 rows for quickly testing if object has the right type of data in it.\n",
    "data3a_weight_trt.head()"
   ]
  },
  {
   "cell_type": "code",
   "execution_count": 102,
   "metadata": {},
   "outputs": [],
   "source": [
    "#group by Id and reseting index\n",
    "data3a_weight_trt_new = data3a_weight_trt.groupby('Id').first().reset_index()"
   ]
  },
  {
   "cell_type": "code",
   "execution_count": 103,
   "metadata": {},
   "outputs": [
    {
     "data": {
      "text/html": [
       "<div>\n",
       "<style scoped>\n",
       "    .dataframe tbody tr th:only-of-type {\n",
       "        vertical-align: middle;\n",
       "    }\n",
       "\n",
       "    .dataframe tbody tr th {\n",
       "        vertical-align: top;\n",
       "    }\n",
       "\n",
       "    .dataframe thead th {\n",
       "        text-align: right;\n",
       "    }\n",
       "</style>\n",
       "<table border=\"1\" class=\"dataframe\">\n",
       "  <thead>\n",
       "    <tr style=\"text-align: right;\">\n",
       "      <th></th>\n",
       "      <th>Id</th>\n",
       "      <th>PRE_WEIGHT</th>\n",
       "      <th>POST_WEIGHT</th>\n",
       "    </tr>\n",
       "  </thead>\n",
       "  <tbody>\n",
       "    <tr>\n",
       "      <th>0</th>\n",
       "      <td>1</td>\n",
       "      <td>135.2510</td>\n",
       "      <td>125.6678</td>\n",
       "    </tr>\n",
       "    <tr>\n",
       "      <th>1</th>\n",
       "      <td>2</td>\n",
       "      <td>154.8713</td>\n",
       "      <td>153.9882</td>\n",
       "    </tr>\n",
       "    <tr>\n",
       "      <th>2</th>\n",
       "      <td>3</td>\n",
       "      <td>128.1951</td>\n",
       "      <td>115.5969</td>\n",
       "    </tr>\n",
       "    <tr>\n",
       "      <th>3</th>\n",
       "      <td>4</td>\n",
       "      <td>183.4600</td>\n",
       "      <td>177.0187</td>\n",
       "    </tr>\n",
       "    <tr>\n",
       "      <th>4</th>\n",
       "      <td>5</td>\n",
       "      <td>166.3726</td>\n",
       "      <td>163.9262</td>\n",
       "    </tr>\n",
       "  </tbody>\n",
       "</table>\n",
       "</div>"
      ],
      "text/plain": [
       "   Id  PRE_WEIGHT  POST_WEIGHT\n",
       "0   1    135.2510     125.6678\n",
       "1   2    154.8713     153.9882\n",
       "2   3    128.1951     115.5969\n",
       "3   4    183.4600     177.0187\n",
       "4   5    166.3726     163.9262"
      ]
     },
     "execution_count": 103,
     "metadata": {},
     "output_type": "execute_result"
    }
   ],
   "source": [
    "#view the first 5 rows for quickly testing\n",
    "data3a_weight_trt_new.head()"
   ]
  },
  {
   "cell_type": "code",
   "execution_count": 104,
   "metadata": {},
   "outputs": [
    {
     "data": {
      "text/plain": [
       "Id             0\n",
       "PRE_WEIGHT     0\n",
       "POST_WEIGHT    0\n",
       "dtype: int64"
      ]
     },
     "execution_count": 104,
     "metadata": {},
     "output_type": "execute_result"
    }
   ],
   "source": [
    "#check if there is any missing values in dataframe\n",
    "data3a_weight_trt_new.isnull().values.any()\n",
    "data3a_weight_trt_new.isnull().sum()"
   ]
  },
  {
   "cell_type": "code",
   "execution_count": 105,
   "metadata": {},
   "outputs": [
    {
     "data": {
      "text/plain": [
       "(2500, 3)"
      ]
     },
     "execution_count": 105,
     "metadata": {},
     "output_type": "execute_result"
    }
   ],
   "source": [
    "#Return the dimensionality of the DataFrame for testing with csv data  \n",
    "data3a_weight_trt_new.shape"
   ]
  },
  {
   "cell_type": "code",
   "execution_count": 106,
   "metadata": {},
   "outputs": [
    {
     "data": {
      "text/html": [
       "<div>\n",
       "<style scoped>\n",
       "    .dataframe tbody tr th:only-of-type {\n",
       "        vertical-align: middle;\n",
       "    }\n",
       "\n",
       "    .dataframe tbody tr th {\n",
       "        vertical-align: top;\n",
       "    }\n",
       "\n",
       "    .dataframe thead th {\n",
       "        text-align: right;\n",
       "    }\n",
       "</style>\n",
       "<table border=\"1\" class=\"dataframe\">\n",
       "  <thead>\n",
       "    <tr style=\"text-align: right;\">\n",
       "      <th></th>\n",
       "      <th>Id</th>\n",
       "      <th>PRE_WEIGHT</th>\n",
       "      <th>POST_WEIGHT</th>\n",
       "    </tr>\n",
       "  </thead>\n",
       "  <tbody>\n",
       "    <tr>\n",
       "      <th>count</th>\n",
       "      <td>2500.00000</td>\n",
       "      <td>2500.000000</td>\n",
       "      <td>2500.000000</td>\n",
       "    </tr>\n",
       "    <tr>\n",
       "      <th>mean</th>\n",
       "      <td>1250.50000</td>\n",
       "      <td>159.786775</td>\n",
       "      <td>150.784382</td>\n",
       "    </tr>\n",
       "    <tr>\n",
       "      <th>std</th>\n",
       "      <td>721.83216</td>\n",
       "      <td>21.803354</td>\n",
       "      <td>21.466418</td>\n",
       "    </tr>\n",
       "    <tr>\n",
       "      <th>min</th>\n",
       "      <td>1.00000</td>\n",
       "      <td>82.803790</td>\n",
       "      <td>78.090870</td>\n",
       "    </tr>\n",
       "    <tr>\n",
       "      <th>25%</th>\n",
       "      <td>625.75000</td>\n",
       "      <td>144.966550</td>\n",
       "      <td>135.869950</td>\n",
       "    </tr>\n",
       "    <tr>\n",
       "      <th>50%</th>\n",
       "      <td>1250.50000</td>\n",
       "      <td>159.066500</td>\n",
       "      <td>150.781150</td>\n",
       "    </tr>\n",
       "    <tr>\n",
       "      <th>75%</th>\n",
       "      <td>1875.25000</td>\n",
       "      <td>174.284100</td>\n",
       "      <td>164.941650</td>\n",
       "    </tr>\n",
       "    <tr>\n",
       "      <th>max</th>\n",
       "      <td>2500.00000</td>\n",
       "      <td>242.763200</td>\n",
       "      <td>221.296700</td>\n",
       "    </tr>\n",
       "  </tbody>\n",
       "</table>\n",
       "</div>"
      ],
      "text/plain": [
       "               Id   PRE_WEIGHT  POST_WEIGHT\n",
       "count  2500.00000  2500.000000  2500.000000\n",
       "mean   1250.50000   159.786775   150.784382\n",
       "std     721.83216    21.803354    21.466418\n",
       "min       1.00000    82.803790    78.090870\n",
       "25%     625.75000   144.966550   135.869950\n",
       "50%    1250.50000   159.066500   150.781150\n",
       "75%    1875.25000   174.284100   164.941650\n",
       "max    2500.00000   242.763200   221.296700"
      ]
     },
     "execution_count": 106,
     "metadata": {},
     "output_type": "execute_result"
    }
   ],
   "source": [
    "data3a_weight_trt_new.describe()"
   ]
  },
  {
   "cell_type": "code",
   "execution_count": 107,
   "metadata": {
    "scrolled": true
   },
   "outputs": [
    {
     "data": {
      "image/png": "[encoded data removed]",
      "text/plain": [
       "<Figure size 432x288 with 1 Axes>"
      ]
     },
     "metadata": {
      "needs_background": "light"
     },
     "output_type": "display_data"
    }
   ],
   "source": [
    "data3a_weight_trt_new.plot.scatter(x='PRE_WEIGHT',y='POST_WEIGHT',c='DarkBlue')\n",
    "plt.show()"
   ]
  },
  {
   "cell_type": "markdown",
   "metadata": {},
   "source": [
    "In the treatment group, we can see a good spread of the data."
   ]
  },
  {
   "cell_type": "code",
   "execution_count": 108,
   "metadata": {
    "scrolled": true
   },
   "outputs": [
    {
     "data": {
      "image/png": "[encoded data removed]",
      "text/plain": [
       "<Figure size 432x288 with 1 Axes>"
      ]
     },
     "metadata": {
      "needs_background": "light"
     },
     "output_type": "display_data"
    }
   ],
   "source": [
    "#boxplot\n",
    "data3a_weight_trt_new.boxplot(column=['PRE_WEIGHT','POST_WEIGHT'])\n",
    "plt.show()"
   ]
  },
  {
   "cell_type": "markdown",
   "metadata": {},
   "source": [
    "The boxplots show that the post weight is generally lower than pre weight. <br><br>\n",
    "Moving onto the control group now."
   ]
  },
  {
   "cell_type": "code",
   "execution_count": 109,
   "metadata": {},
   "outputs": [],
   "source": [
    "#read the data from csv file\n",
    "data3b_weight_con = pd.read_csv(\"data3b_weight_con.csv\")"
   ]
  },
  {
   "cell_type": "code",
   "execution_count": 110,
   "metadata": {},
   "outputs": [
    {
     "data": {
      "text/html": [
       "<div>\n",
       "<style scoped>\n",
       "    .dataframe tbody tr th:only-of-type {\n",
       "        vertical-align: middle;\n",
       "    }\n",
       "\n",
       "    .dataframe tbody tr th {\n",
       "        vertical-align: top;\n",
       "    }\n",
       "\n",
       "    .dataframe thead th {\n",
       "        text-align: right;\n",
       "    }\n",
       "</style>\n",
       "<table border=\"1\" class=\"dataframe\">\n",
       "  <thead>\n",
       "    <tr style=\"text-align: right;\">\n",
       "      <th></th>\n",
       "      <th>obs_ID</th>\n",
       "      <th>PRE_WEIGHT</th>\n",
       "      <th>POST_WEIGHT</th>\n",
       "    </tr>\n",
       "  </thead>\n",
       "  <tbody>\n",
       "    <tr>\n",
       "      <th>0</th>\n",
       "      <td>2501</td>\n",
       "      <td>159.7587</td>\n",
       "      <td>NaN</td>\n",
       "    </tr>\n",
       "    <tr>\n",
       "      <th>1</th>\n",
       "      <td>2501</td>\n",
       "      <td>NaN</td>\n",
       "      <td>158.692</td>\n",
       "    </tr>\n",
       "    <tr>\n",
       "      <th>2</th>\n",
       "      <td>2502</td>\n",
       "      <td>176.1611</td>\n",
       "      <td>NaN</td>\n",
       "    </tr>\n",
       "    <tr>\n",
       "      <th>3</th>\n",
       "      <td>2502</td>\n",
       "      <td>NaN</td>\n",
       "      <td>174.827</td>\n",
       "    </tr>\n",
       "    <tr>\n",
       "      <th>4</th>\n",
       "      <td>2503</td>\n",
       "      <td>181.3907</td>\n",
       "      <td>NaN</td>\n",
       "    </tr>\n",
       "  </tbody>\n",
       "</table>\n",
       "</div>"
      ],
      "text/plain": [
       "   obs_ID  PRE_WEIGHT  POST_WEIGHT\n",
       "0    2501    159.7587          NaN\n",
       "1    2501         NaN      158.692\n",
       "2    2502    176.1611          NaN\n",
       "3    2502         NaN      174.827\n",
       "4    2503    181.3907          NaN"
      ]
     },
     "execution_count": 110,
     "metadata": {},
     "output_type": "execute_result"
    }
   ],
   "source": [
    "#view first 5 rows of data3b_weight_con data frame\n",
    "data3b_weight_con.head()"
   ]
  },
  {
   "cell_type": "code",
   "execution_count": 111,
   "metadata": {},
   "outputs": [],
   "source": [
    "#group by obd_ID to add duplicate IDs in one row and then resetting index\n",
    "data3b_weight_con_new = data3b_weight_con.groupby('obs_ID').first().reset_index()"
   ]
  },
  {
   "cell_type": "code",
   "execution_count": 112,
   "metadata": {},
   "outputs": [
    {
     "data": {
      "text/html": [
       "<div>\n",
       "<style scoped>\n",
       "    .dataframe tbody tr th:only-of-type {\n",
       "        vertical-align: middle;\n",
       "    }\n",
       "\n",
       "    .dataframe tbody tr th {\n",
       "        vertical-align: top;\n",
       "    }\n",
       "\n",
       "    .dataframe thead th {\n",
       "        text-align: right;\n",
       "    }\n",
       "</style>\n",
       "<table border=\"1\" class=\"dataframe\">\n",
       "  <thead>\n",
       "    <tr style=\"text-align: right;\">\n",
       "      <th></th>\n",
       "      <th>obs_ID</th>\n",
       "      <th>PRE_WEIGHT</th>\n",
       "      <th>POST_WEIGHT</th>\n",
       "    </tr>\n",
       "  </thead>\n",
       "  <tbody>\n",
       "    <tr>\n",
       "      <th>0</th>\n",
       "      <td>2501</td>\n",
       "      <td>159.7587</td>\n",
       "      <td>158.6920</td>\n",
       "    </tr>\n",
       "    <tr>\n",
       "      <th>1</th>\n",
       "      <td>2502</td>\n",
       "      <td>176.1611</td>\n",
       "      <td>174.8270</td>\n",
       "    </tr>\n",
       "    <tr>\n",
       "      <th>2</th>\n",
       "      <td>2503</td>\n",
       "      <td>181.3907</td>\n",
       "      <td>179.9042</td>\n",
       "    </tr>\n",
       "    <tr>\n",
       "      <th>3</th>\n",
       "      <td>2504</td>\n",
       "      <td>175.6615</td>\n",
       "      <td>175.2032</td>\n",
       "    </tr>\n",
       "    <tr>\n",
       "      <th>4</th>\n",
       "      <td>2505</td>\n",
       "      <td>136.5405</td>\n",
       "      <td>137.9253</td>\n",
       "    </tr>\n",
       "  </tbody>\n",
       "</table>\n",
       "</div>"
      ],
      "text/plain": [
       "   obs_ID  PRE_WEIGHT  POST_WEIGHT\n",
       "0    2501    159.7587     158.6920\n",
       "1    2502    176.1611     174.8270\n",
       "2    2503    181.3907     179.9042\n",
       "3    2504    175.6615     175.2032\n",
       "4    2505    136.5405     137.9253"
      ]
     },
     "execution_count": 112,
     "metadata": {},
     "output_type": "execute_result"
    }
   ],
   "source": [
    "#view first five rows of data3b_weight_con_new dataframe\n",
    "data3b_weight_con_new.head()"
   ]
  },
  {
   "cell_type": "code",
   "execution_count": 113,
   "metadata": {},
   "outputs": [
    {
     "data": {
      "text/plain": [
       "obs_ID         0\n",
       "PRE_WEIGHT     0\n",
       "POST_WEIGHT    0\n",
       "dtype: int64"
      ]
     },
     "execution_count": 113,
     "metadata": {},
     "output_type": "execute_result"
    }
   ],
   "source": [
    "#check for missing values\n",
    "data3b_weight_con_new.isnull().sum()"
   ]
  },
  {
   "cell_type": "code",
   "execution_count": 114,
   "metadata": {},
   "outputs": [
    {
     "data": {
      "text/plain": [
       "(2500, 3)"
      ]
     },
     "execution_count": 114,
     "metadata": {},
     "output_type": "execute_result"
    }
   ],
   "source": [
    "#test dimensionality of data3b_weight_con_new\n",
    "data3b_weight_con_new.shape"
   ]
  },
  {
   "cell_type": "code",
   "execution_count": 115,
   "metadata": {},
   "outputs": [
    {
     "data": {
      "text/html": [
       "<div>\n",
       "<style scoped>\n",
       "    .dataframe tbody tr th:only-of-type {\n",
       "        vertical-align: middle;\n",
       "    }\n",
       "\n",
       "    .dataframe tbody tr th {\n",
       "        vertical-align: top;\n",
       "    }\n",
       "\n",
       "    .dataframe thead th {\n",
       "        text-align: right;\n",
       "    }\n",
       "</style>\n",
       "<table border=\"1\" class=\"dataframe\">\n",
       "  <thead>\n",
       "    <tr style=\"text-align: right;\">\n",
       "      <th></th>\n",
       "      <th>obs_ID</th>\n",
       "      <th>PRE_WEIGHT</th>\n",
       "      <th>POST_WEIGHT</th>\n",
       "    </tr>\n",
       "  </thead>\n",
       "  <tbody>\n",
       "    <tr>\n",
       "      <th>count</th>\n",
       "      <td>2500.00000</td>\n",
       "      <td>2500.000000</td>\n",
       "      <td>2500.000000</td>\n",
       "    </tr>\n",
       "    <tr>\n",
       "      <th>mean</th>\n",
       "      <td>3750.50000</td>\n",
       "      <td>159.923403</td>\n",
       "      <td>159.150366</td>\n",
       "    </tr>\n",
       "    <tr>\n",
       "      <th>std</th>\n",
       "      <td>721.83216</td>\n",
       "      <td>21.391016</td>\n",
       "      <td>21.043802</td>\n",
       "    </tr>\n",
       "    <tr>\n",
       "      <th>min</th>\n",
       "      <td>2501.00000</td>\n",
       "      <td>91.237920</td>\n",
       "      <td>90.156130</td>\n",
       "    </tr>\n",
       "    <tr>\n",
       "      <th>25%</th>\n",
       "      <td>3125.75000</td>\n",
       "      <td>145.369300</td>\n",
       "      <td>144.722825</td>\n",
       "    </tr>\n",
       "    <tr>\n",
       "      <th>50%</th>\n",
       "      <td>3750.50000</td>\n",
       "      <td>159.126750</td>\n",
       "      <td>158.671500</td>\n",
       "    </tr>\n",
       "    <tr>\n",
       "      <th>75%</th>\n",
       "      <td>4375.25000</td>\n",
       "      <td>174.413975</td>\n",
       "      <td>173.476575</td>\n",
       "    </tr>\n",
       "    <tr>\n",
       "      <th>max</th>\n",
       "      <td>5000.00000</td>\n",
       "      <td>232.700800</td>\n",
       "      <td>229.274700</td>\n",
       "    </tr>\n",
       "  </tbody>\n",
       "</table>\n",
       "</div>"
      ],
      "text/plain": [
       "           obs_ID   PRE_WEIGHT  POST_WEIGHT\n",
       "count  2500.00000  2500.000000  2500.000000\n",
       "mean   3750.50000   159.923403   159.150366\n",
       "std     721.83216    21.391016    21.043802\n",
       "min    2501.00000    91.237920    90.156130\n",
       "25%    3125.75000   145.369300   144.722825\n",
       "50%    3750.50000   159.126750   158.671500\n",
       "75%    4375.25000   174.413975   173.476575\n",
       "max    5000.00000   232.700800   229.274700"
      ]
     },
     "execution_count": 115,
     "metadata": {},
     "output_type": "execute_result"
    }
   ],
   "source": [
    "data3b_weight_con_new.describe()"
   ]
  },
  {
   "cell_type": "code",
   "execution_count": 116,
   "metadata": {
    "scrolled": true
   },
   "outputs": [
    {
     "data": {
      "image/png": "[encoded data removed]",
      "text/plain": [
       "<Figure size 432x288 with 1 Axes>"
      ]
     },
     "metadata": {
      "needs_background": "light"
     },
     "output_type": "display_data"
    }
   ],
   "source": [
    "#scatter plot \n",
    "data3b_weight_con_new.plot.scatter(x='PRE_WEIGHT',y='POST_WEIGHT',c='DarkBlue')\n",
    "plt.show()"
   ]
  },
  {
   "cell_type": "markdown",
   "metadata": {},
   "source": [
    "Much less of a spread for the control group. This means that pre weight and post weight are much closely related for the control group than the treatment group. "
   ]
  },
  {
   "cell_type": "code",
   "execution_count": 117,
   "metadata": {
    "scrolled": true
   },
   "outputs": [
    {
     "data": {
      "image/png": "[encoded data removed]",
      "text/plain": [
       "<Figure size 432x288 with 1 Axes>"
      ]
     },
     "metadata": {
      "needs_background": "light"
     },
     "output_type": "display_data"
    }
   ],
   "source": [
    "#boxplots\n",
    "data3b_weight_con_new.boxplot(column=['PRE_WEIGHT', 'POST_WEIGHT'])\n",
    "plt.show()"
   ]
  },
  {
   "cell_type": "markdown",
   "metadata": {},
   "source": [
    "The medians and distributions of pre and post weight are very similar in the control group."
   ]
  },
  {
   "cell_type": "code",
   "execution_count": 118,
   "metadata": {},
   "outputs": [
    {
     "data": {
      "text/html": [
       "<div>\n",
       "<style scoped>\n",
       "    .dataframe tbody tr th:only-of-type {\n",
       "        vertical-align: middle;\n",
       "    }\n",
       "\n",
       "    .dataframe tbody tr th {\n",
       "        vertical-align: top;\n",
       "    }\n",
       "\n",
       "    .dataframe thead th {\n",
       "        text-align: right;\n",
       "    }\n",
       "</style>\n",
       "<table border=\"1\" class=\"dataframe\">\n",
       "  <thead>\n",
       "    <tr style=\"text-align: right;\">\n",
       "      <th></th>\n",
       "      <th>Id</th>\n",
       "      <th>PRE_WEIGHT</th>\n",
       "      <th>POST_WEIGHT</th>\n",
       "    </tr>\n",
       "  </thead>\n",
       "  <tbody>\n",
       "    <tr>\n",
       "      <th>0</th>\n",
       "      <td>2501</td>\n",
       "      <td>159.7587</td>\n",
       "      <td>158.6920</td>\n",
       "    </tr>\n",
       "    <tr>\n",
       "      <th>1</th>\n",
       "      <td>2502</td>\n",
       "      <td>176.1611</td>\n",
       "      <td>174.8270</td>\n",
       "    </tr>\n",
       "    <tr>\n",
       "      <th>2</th>\n",
       "      <td>2503</td>\n",
       "      <td>181.3907</td>\n",
       "      <td>179.9042</td>\n",
       "    </tr>\n",
       "    <tr>\n",
       "      <th>3</th>\n",
       "      <td>2504</td>\n",
       "      <td>175.6615</td>\n",
       "      <td>175.2032</td>\n",
       "    </tr>\n",
       "    <tr>\n",
       "      <th>4</th>\n",
       "      <td>2505</td>\n",
       "      <td>136.5405</td>\n",
       "      <td>137.9253</td>\n",
       "    </tr>\n",
       "  </tbody>\n",
       "</table>\n",
       "</div>"
      ],
      "text/plain": [
       "     Id  PRE_WEIGHT  POST_WEIGHT\n",
       "0  2501    159.7587     158.6920\n",
       "1  2502    176.1611     174.8270\n",
       "2  2503    181.3907     179.9042\n",
       "3  2504    175.6615     175.2032\n",
       "4  2505    136.5405     137.9253"
      ]
     },
     "execution_count": 118,
     "metadata": {},
     "output_type": "execute_result"
    }
   ],
   "source": [
    "#rename column obs_ID to Id to be consistent with data3a_weight_trt_new dataframe\n",
    "data3b_weight_con_new=data3b_weight_con_new.rename(columns={\"obs_ID\":\"Id\"})\n",
    "data3b_weight_con_new.head()"
   ]
  },
  {
   "cell_type": "markdown",
   "metadata": {},
   "source": [
    "Concatenating both dataframes to get a new dataframe with 5000 observations. "
   ]
  },
  {
   "cell_type": "code",
   "execution_count": 119,
   "metadata": {},
   "outputs": [],
   "source": [
    "#vertically and ordinal concatenate data3a_weight_trt_new with data3b_weight_con_new dataframes \n",
    "data_weight= pd.concat([data3a_weight_trt_new,data3b_weight_con_new],axis=0 )"
   ]
  },
  {
   "cell_type": "code",
   "execution_count": 120,
   "metadata": {},
   "outputs": [
    {
     "data": {
      "text/html": [
       "<div>\n",
       "<style scoped>\n",
       "    .dataframe tbody tr th:only-of-type {\n",
       "        vertical-align: middle;\n",
       "    }\n",
       "\n",
       "    .dataframe tbody tr th {\n",
       "        vertical-align: top;\n",
       "    }\n",
       "\n",
       "    .dataframe thead th {\n",
       "        text-align: right;\n",
       "    }\n",
       "</style>\n",
       "<table border=\"1\" class=\"dataframe\">\n",
       "  <thead>\n",
       "    <tr style=\"text-align: right;\">\n",
       "      <th></th>\n",
       "      <th>Id</th>\n",
       "      <th>PRE_WEIGHT</th>\n",
       "      <th>POST_WEIGHT</th>\n",
       "    </tr>\n",
       "  </thead>\n",
       "  <tbody>\n",
       "    <tr>\n",
       "      <th>0</th>\n",
       "      <td>1</td>\n",
       "      <td>135.2510</td>\n",
       "      <td>125.6678</td>\n",
       "    </tr>\n",
       "    <tr>\n",
       "      <th>1</th>\n",
       "      <td>2</td>\n",
       "      <td>154.8713</td>\n",
       "      <td>153.9882</td>\n",
       "    </tr>\n",
       "    <tr>\n",
       "      <th>2</th>\n",
       "      <td>3</td>\n",
       "      <td>128.1951</td>\n",
       "      <td>115.5969</td>\n",
       "    </tr>\n",
       "    <tr>\n",
       "      <th>3</th>\n",
       "      <td>4</td>\n",
       "      <td>183.4600</td>\n",
       "      <td>177.0187</td>\n",
       "    </tr>\n",
       "    <tr>\n",
       "      <th>4</th>\n",
       "      <td>5</td>\n",
       "      <td>166.3726</td>\n",
       "      <td>163.9262</td>\n",
       "    </tr>\n",
       "  </tbody>\n",
       "</table>\n",
       "</div>"
      ],
      "text/plain": [
       "   Id  PRE_WEIGHT  POST_WEIGHT\n",
       "0   1    135.2510     125.6678\n",
       "1   2    154.8713     153.9882\n",
       "2   3    128.1951     115.5969\n",
       "3   4    183.4600     177.0187\n",
       "4   5    166.3726     163.9262"
      ]
     },
     "execution_count": 120,
     "metadata": {},
     "output_type": "execute_result"
    }
   ],
   "source": [
    "data_weight.head()"
   ]
  },
  {
   "cell_type": "markdown",
   "metadata": {},
   "source": [
    "### Reading in data from SRH file {-}"
   ]
  },
  {
   "cell_type": "code",
   "execution_count": 121,
   "metadata": {},
   "outputs": [],
   "source": [
    "#read the data from csv file\n",
    "srh_data = pd.read_csv(\"data2_SRH.csv\")"
   ]
  },
  {
   "cell_type": "code",
   "execution_count": 122,
   "metadata": {},
   "outputs": [
    {
     "data": {
      "text/html": [
       "<div>\n",
       "<style scoped>\n",
       "    .dataframe tbody tr th:only-of-type {\n",
       "        vertical-align: middle;\n",
       "    }\n",
       "\n",
       "    .dataframe tbody tr th {\n",
       "        vertical-align: top;\n",
       "    }\n",
       "\n",
       "    .dataframe thead th {\n",
       "        text-align: right;\n",
       "    }\n",
       "</style>\n",
       "<table border=\"1\" class=\"dataframe\">\n",
       "  <thead>\n",
       "    <tr style=\"text-align: right;\">\n",
       "      <th></th>\n",
       "      <th>id</th>\n",
       "      <th>trt</th>\n",
       "      <th>TIME</th>\n",
       "      <th>SRH</th>\n",
       "    </tr>\n",
       "  </thead>\n",
       "  <tbody>\n",
       "    <tr>\n",
       "      <th>0</th>\n",
       "      <td>1</td>\n",
       "      <td>1</td>\n",
       "      <td>POST</td>\n",
       "      <td>Poor</td>\n",
       "    </tr>\n",
       "    <tr>\n",
       "      <th>1</th>\n",
       "      <td>1</td>\n",
       "      <td>1</td>\n",
       "      <td>PRE</td>\n",
       "      <td>Good</td>\n",
       "    </tr>\n",
       "    <tr>\n",
       "      <th>2</th>\n",
       "      <td>2</td>\n",
       "      <td>1</td>\n",
       "      <td>PRE</td>\n",
       "      <td>Poor</td>\n",
       "    </tr>\n",
       "    <tr>\n",
       "      <th>3</th>\n",
       "      <td>2</td>\n",
       "      <td>1</td>\n",
       "      <td>POST</td>\n",
       "      <td>Very Poor</td>\n",
       "    </tr>\n",
       "    <tr>\n",
       "      <th>4</th>\n",
       "      <td>3</td>\n",
       "      <td>1</td>\n",
       "      <td>PRE</td>\n",
       "      <td>Satisfactory</td>\n",
       "    </tr>\n",
       "  </tbody>\n",
       "</table>\n",
       "</div>"
      ],
      "text/plain": [
       "   id  trt  TIME           SRH\n",
       "0   1    1  POST          Poor\n",
       "1   1    1   PRE          Good\n",
       "2   2    1   PRE          Poor\n",
       "3   2    1  POST     Very Poor\n",
       "4   3    1   PRE  Satisfactory"
      ]
     },
     "execution_count": 122,
     "metadata": {},
     "output_type": "execute_result"
    }
   ],
   "source": [
    "#view the first 5 rows for quickly testing if object has the right type of data in it.\n",
    "srh_data.head()"
   ]
  },
  {
   "cell_type": "markdown",
   "metadata": {},
   "source": [
    "Here, getting the time onto the columns rather than as a feature."
   ]
  },
  {
   "cell_type": "code",
   "execution_count": 123,
   "metadata": {},
   "outputs": [],
   "source": [
    "#creating SRH_POST AND SRH_PRE columns to replace with TIME \n",
    "srh_data['SRH_POST'] = np.where(srh_data.TIME == \"POST\",srh_data['SRH'],np.nan)\n",
    "srh_data['SRH_PRE'] = np.where(srh_data.TIME == \"PRE\",srh_data['SRH'],np.nan)"
   ]
  },
  {
   "cell_type": "code",
   "execution_count": 124,
   "metadata": {},
   "outputs": [
    {
     "data": {
      "text/html": [
       "<div>\n",
       "<style scoped>\n",
       "    .dataframe tbody tr th:only-of-type {\n",
       "        vertical-align: middle;\n",
       "    }\n",
       "\n",
       "    .dataframe tbody tr th {\n",
       "        vertical-align: top;\n",
       "    }\n",
       "\n",
       "    .dataframe thead th {\n",
       "        text-align: right;\n",
       "    }\n",
       "</style>\n",
       "<table border=\"1\" class=\"dataframe\">\n",
       "  <thead>\n",
       "    <tr style=\"text-align: right;\">\n",
       "      <th></th>\n",
       "      <th>id</th>\n",
       "      <th>trt</th>\n",
       "      <th>TIME</th>\n",
       "      <th>SRH</th>\n",
       "      <th>SRH_POST</th>\n",
       "      <th>SRH_PRE</th>\n",
       "    </tr>\n",
       "  </thead>\n",
       "  <tbody>\n",
       "    <tr>\n",
       "      <th>0</th>\n",
       "      <td>1</td>\n",
       "      <td>1</td>\n",
       "      <td>POST</td>\n",
       "      <td>Poor</td>\n",
       "      <td>Poor</td>\n",
       "      <td>NaN</td>\n",
       "    </tr>\n",
       "    <tr>\n",
       "      <th>1</th>\n",
       "      <td>1</td>\n",
       "      <td>1</td>\n",
       "      <td>PRE</td>\n",
       "      <td>Good</td>\n",
       "      <td>NaN</td>\n",
       "      <td>Good</td>\n",
       "    </tr>\n",
       "    <tr>\n",
       "      <th>2</th>\n",
       "      <td>2</td>\n",
       "      <td>1</td>\n",
       "      <td>PRE</td>\n",
       "      <td>Poor</td>\n",
       "      <td>NaN</td>\n",
       "      <td>Poor</td>\n",
       "    </tr>\n",
       "    <tr>\n",
       "      <th>3</th>\n",
       "      <td>2</td>\n",
       "      <td>1</td>\n",
       "      <td>POST</td>\n",
       "      <td>Very Poor</td>\n",
       "      <td>Very Poor</td>\n",
       "      <td>NaN</td>\n",
       "    </tr>\n",
       "    <tr>\n",
       "      <th>4</th>\n",
       "      <td>3</td>\n",
       "      <td>1</td>\n",
       "      <td>PRE</td>\n",
       "      <td>Satisfactory</td>\n",
       "      <td>NaN</td>\n",
       "      <td>Satisfactory</td>\n",
       "    </tr>\n",
       "  </tbody>\n",
       "</table>\n",
       "</div>"
      ],
      "text/plain": [
       "   id  trt  TIME           SRH   SRH_POST       SRH_PRE\n",
       "0   1    1  POST          Poor       Poor           NaN\n",
       "1   1    1   PRE          Good        NaN          Good\n",
       "2   2    1   PRE          Poor        NaN          Poor\n",
       "3   2    1  POST     Very Poor  Very Poor           NaN\n",
       "4   3    1   PRE  Satisfactory        NaN  Satisfactory"
      ]
     },
     "execution_count": 124,
     "metadata": {},
     "output_type": "execute_result"
    }
   ],
   "source": [
    "srh_data.head()"
   ]
  },
  {
   "cell_type": "code",
   "execution_count": 125,
   "metadata": {},
   "outputs": [],
   "source": [
    "#drop TIME and SRH columns\n",
    "srh_data=srh_data.drop(['TIME', 'SRH'], axis = 1) "
   ]
  },
  {
   "cell_type": "code",
   "execution_count": 126,
   "metadata": {},
   "outputs": [
    {
     "data": {
      "text/html": [
       "<div>\n",
       "<style scoped>\n",
       "    .dataframe tbody tr th:only-of-type {\n",
       "        vertical-align: middle;\n",
       "    }\n",
       "\n",
       "    .dataframe tbody tr th {\n",
       "        vertical-align: top;\n",
       "    }\n",
       "\n",
       "    .dataframe thead th {\n",
       "        text-align: right;\n",
       "    }\n",
       "</style>\n",
       "<table border=\"1\" class=\"dataframe\">\n",
       "  <thead>\n",
       "    <tr style=\"text-align: right;\">\n",
       "      <th></th>\n",
       "      <th>id</th>\n",
       "      <th>trt</th>\n",
       "      <th>SRH_POST</th>\n",
       "      <th>SRH_PRE</th>\n",
       "    </tr>\n",
       "  </thead>\n",
       "  <tbody>\n",
       "    <tr>\n",
       "      <th>0</th>\n",
       "      <td>1</td>\n",
       "      <td>1</td>\n",
       "      <td>Poor</td>\n",
       "      <td>NaN</td>\n",
       "    </tr>\n",
       "    <tr>\n",
       "      <th>1</th>\n",
       "      <td>1</td>\n",
       "      <td>1</td>\n",
       "      <td>NaN</td>\n",
       "      <td>Good</td>\n",
       "    </tr>\n",
       "    <tr>\n",
       "      <th>2</th>\n",
       "      <td>2</td>\n",
       "      <td>1</td>\n",
       "      <td>NaN</td>\n",
       "      <td>Poor</td>\n",
       "    </tr>\n",
       "    <tr>\n",
       "      <th>3</th>\n",
       "      <td>2</td>\n",
       "      <td>1</td>\n",
       "      <td>Very Poor</td>\n",
       "      <td>NaN</td>\n",
       "    </tr>\n",
       "    <tr>\n",
       "      <th>4</th>\n",
       "      <td>3</td>\n",
       "      <td>1</td>\n",
       "      <td>NaN</td>\n",
       "      <td>Satisfactory</td>\n",
       "    </tr>\n",
       "  </tbody>\n",
       "</table>\n",
       "</div>"
      ],
      "text/plain": [
       "   id  trt   SRH_POST       SRH_PRE\n",
       "0   1    1       Poor           NaN\n",
       "1   1    1        NaN          Good\n",
       "2   2    1        NaN          Poor\n",
       "3   2    1  Very Poor           NaN\n",
       "4   3    1        NaN  Satisfactory"
      ]
     },
     "execution_count": 126,
     "metadata": {},
     "output_type": "execute_result"
    }
   ],
   "source": [
    "srh_data.head()"
   ]
  },
  {
   "cell_type": "markdown",
   "metadata": {},
   "source": [
    "Now, combining the post and pre rows into one observation by the id column."
   ]
  },
  {
   "cell_type": "code",
   "execution_count": 127,
   "metadata": {},
   "outputs": [],
   "source": [
    "#remove duplicate ids and put them in the same row, then reseting indices\n",
    "srh_data_new = srh_data.groupby('id').first().reset_index()"
   ]
  },
  {
   "cell_type": "code",
   "execution_count": 128,
   "metadata": {},
   "outputs": [
    {
     "data": {
      "text/html": [
       "<div>\n",
       "<style scoped>\n",
       "    .dataframe tbody tr th:only-of-type {\n",
       "        vertical-align: middle;\n",
       "    }\n",
       "\n",
       "    .dataframe tbody tr th {\n",
       "        vertical-align: top;\n",
       "    }\n",
       "\n",
       "    .dataframe thead th {\n",
       "        text-align: right;\n",
       "    }\n",
       "</style>\n",
       "<table border=\"1\" class=\"dataframe\">\n",
       "  <thead>\n",
       "    <tr style=\"text-align: right;\">\n",
       "      <th></th>\n",
       "      <th>id</th>\n",
       "      <th>trt</th>\n",
       "      <th>SRH_POST</th>\n",
       "      <th>SRH_PRE</th>\n",
       "    </tr>\n",
       "  </thead>\n",
       "  <tbody>\n",
       "    <tr>\n",
       "      <th>0</th>\n",
       "      <td>1</td>\n",
       "      <td>1</td>\n",
       "      <td>Poor</td>\n",
       "      <td>Good</td>\n",
       "    </tr>\n",
       "    <tr>\n",
       "      <th>1</th>\n",
       "      <td>2</td>\n",
       "      <td>1</td>\n",
       "      <td>Very Poor</td>\n",
       "      <td>Poor</td>\n",
       "    </tr>\n",
       "    <tr>\n",
       "      <th>2</th>\n",
       "      <td>3</td>\n",
       "      <td>1</td>\n",
       "      <td>Good</td>\n",
       "      <td>Satisfactory</td>\n",
       "    </tr>\n",
       "    <tr>\n",
       "      <th>3</th>\n",
       "      <td>4</td>\n",
       "      <td>1</td>\n",
       "      <td>Good</td>\n",
       "      <td>Poor</td>\n",
       "    </tr>\n",
       "    <tr>\n",
       "      <th>4</th>\n",
       "      <td>5</td>\n",
       "      <td>1</td>\n",
       "      <td>Poor</td>\n",
       "      <td>Poor</td>\n",
       "    </tr>\n",
       "  </tbody>\n",
       "</table>\n",
       "</div>"
      ],
      "text/plain": [
       "   id  trt   SRH_POST       SRH_PRE\n",
       "0   1    1       Poor          Good\n",
       "1   2    1  Very Poor          Poor\n",
       "2   3    1       Good  Satisfactory\n",
       "3   4    1       Good          Poor\n",
       "4   5    1       Poor          Poor"
      ]
     },
     "execution_count": 128,
     "metadata": {},
     "output_type": "execute_result"
    }
   ],
   "source": [
    "srh_data_new.head()"
   ]
  },
  {
   "cell_type": "code",
   "execution_count": 129,
   "metadata": {},
   "outputs": [
    {
     "data": {
      "text/plain": [
       "id          0\n",
       "trt         0\n",
       "SRH_POST    0\n",
       "SRH_PRE     0\n",
       "dtype: int64"
      ]
     },
     "execution_count": 129,
     "metadata": {},
     "output_type": "execute_result"
    }
   ],
   "source": [
    "#check missing values\n",
    "srh_data_new.isnull().sum()"
   ]
  },
  {
   "cell_type": "code",
   "execution_count": 130,
   "metadata": {},
   "outputs": [
    {
     "data": {
      "text/html": [
       "<div>\n",
       "<style scoped>\n",
       "    .dataframe tbody tr th:only-of-type {\n",
       "        vertical-align: middle;\n",
       "    }\n",
       "\n",
       "    .dataframe tbody tr th {\n",
       "        vertical-align: top;\n",
       "    }\n",
       "\n",
       "    .dataframe thead th {\n",
       "        text-align: right;\n",
       "    }\n",
       "</style>\n",
       "<table border=\"1\" class=\"dataframe\">\n",
       "  <thead>\n",
       "    <tr style=\"text-align: right;\">\n",
       "      <th></th>\n",
       "      <th>Id</th>\n",
       "      <th>trt</th>\n",
       "      <th>SRH_POST</th>\n",
       "      <th>SRH_PRE</th>\n",
       "    </tr>\n",
       "  </thead>\n",
       "  <tbody>\n",
       "    <tr>\n",
       "      <th>0</th>\n",
       "      <td>1</td>\n",
       "      <td>1</td>\n",
       "      <td>Poor</td>\n",
       "      <td>Good</td>\n",
       "    </tr>\n",
       "    <tr>\n",
       "      <th>1</th>\n",
       "      <td>2</td>\n",
       "      <td>1</td>\n",
       "      <td>Very Poor</td>\n",
       "      <td>Poor</td>\n",
       "    </tr>\n",
       "    <tr>\n",
       "      <th>2</th>\n",
       "      <td>3</td>\n",
       "      <td>1</td>\n",
       "      <td>Good</td>\n",
       "      <td>Satisfactory</td>\n",
       "    </tr>\n",
       "    <tr>\n",
       "      <th>3</th>\n",
       "      <td>4</td>\n",
       "      <td>1</td>\n",
       "      <td>Good</td>\n",
       "      <td>Poor</td>\n",
       "    </tr>\n",
       "    <tr>\n",
       "      <th>4</th>\n",
       "      <td>5</td>\n",
       "      <td>1</td>\n",
       "      <td>Poor</td>\n",
       "      <td>Poor</td>\n",
       "    </tr>\n",
       "  </tbody>\n",
       "</table>\n",
       "</div>"
      ],
      "text/plain": [
       "   Id  trt   SRH_POST       SRH_PRE\n",
       "0   1    1       Poor          Good\n",
       "1   2    1  Very Poor          Poor\n",
       "2   3    1       Good  Satisfactory\n",
       "3   4    1       Good          Poor\n",
       "4   5    1       Poor          Poor"
      ]
     },
     "execution_count": 130,
     "metadata": {},
     "output_type": "execute_result"
    }
   ],
   "source": [
    "#rename header id to Id\n",
    "srh_data_new=srh_data_new.rename(columns={\"id\":\"Id\"})\n",
    "srh_data_new.head()"
   ]
  },
  {
   "cell_type": "code",
   "execution_count": 131,
   "metadata": {},
   "outputs": [
    {
     "data": {
      "text/plain": [
       "(5000, 4)"
      ]
     },
     "execution_count": 131,
     "metadata": {},
     "output_type": "execute_result"
    }
   ],
   "source": [
    "#check dimensionality of the dataframe\n",
    "srh_data_new.shape"
   ]
  },
  {
   "cell_type": "markdown",
   "metadata": {},
   "source": [
    "Merging the weight and SRH information here. This would later be merged with the demographic information later."
   ]
  },
  {
   "cell_type": "code",
   "execution_count": 132,
   "metadata": {},
   "outputs": [
    {
     "data": {
      "text/html": [
       "<div>\n",
       "<style scoped>\n",
       "    .dataframe tbody tr th:only-of-type {\n",
       "        vertical-align: middle;\n",
       "    }\n",
       "\n",
       "    .dataframe tbody tr th {\n",
       "        vertical-align: top;\n",
       "    }\n",
       "\n",
       "    .dataframe thead th {\n",
       "        text-align: right;\n",
       "    }\n",
       "</style>\n",
       "<table border=\"1\" class=\"dataframe\">\n",
       "  <thead>\n",
       "    <tr style=\"text-align: right;\">\n",
       "      <th></th>\n",
       "      <th>Id</th>\n",
       "      <th>trt</th>\n",
       "      <th>SRH_POST</th>\n",
       "      <th>SRH_PRE</th>\n",
       "      <th>PRE_WEIGHT</th>\n",
       "      <th>POST_WEIGHT</th>\n",
       "    </tr>\n",
       "  </thead>\n",
       "  <tbody>\n",
       "    <tr>\n",
       "      <th>0</th>\n",
       "      <td>1</td>\n",
       "      <td>1</td>\n",
       "      <td>Poor</td>\n",
       "      <td>Good</td>\n",
       "      <td>135.2510</td>\n",
       "      <td>125.6678</td>\n",
       "    </tr>\n",
       "    <tr>\n",
       "      <th>1</th>\n",
       "      <td>2</td>\n",
       "      <td>1</td>\n",
       "      <td>Very Poor</td>\n",
       "      <td>Poor</td>\n",
       "      <td>154.8713</td>\n",
       "      <td>153.9882</td>\n",
       "    </tr>\n",
       "    <tr>\n",
       "      <th>2</th>\n",
       "      <td>3</td>\n",
       "      <td>1</td>\n",
       "      <td>Good</td>\n",
       "      <td>Satisfactory</td>\n",
       "      <td>128.1951</td>\n",
       "      <td>115.5969</td>\n",
       "    </tr>\n",
       "    <tr>\n",
       "      <th>3</th>\n",
       "      <td>4</td>\n",
       "      <td>1</td>\n",
       "      <td>Good</td>\n",
       "      <td>Poor</td>\n",
       "      <td>183.4600</td>\n",
       "      <td>177.0187</td>\n",
       "    </tr>\n",
       "    <tr>\n",
       "      <th>4</th>\n",
       "      <td>5</td>\n",
       "      <td>1</td>\n",
       "      <td>Poor</td>\n",
       "      <td>Poor</td>\n",
       "      <td>166.3726</td>\n",
       "      <td>163.9262</td>\n",
       "    </tr>\n",
       "  </tbody>\n",
       "</table>\n",
       "</div>"
      ],
      "text/plain": [
       "   Id  trt   SRH_POST       SRH_PRE  PRE_WEIGHT  POST_WEIGHT\n",
       "0   1    1       Poor          Good    135.2510     125.6678\n",
       "1   2    1  Very Poor          Poor    154.8713     153.9882\n",
       "2   3    1       Good  Satisfactory    128.1951     115.5969\n",
       "3   4    1       Good          Poor    183.4600     177.0187\n",
       "4   5    1       Poor          Poor    166.3726     163.9262"
      ]
     },
     "execution_count": 132,
     "metadata": {},
     "output_type": "execute_result"
    }
   ],
   "source": [
    "#merge two dataframes of srh_data_new and data_weight \n",
    "srh_weight= pd.merge(srh_data_new, data_weight, on='Id')\n",
    "srh_weight.head()"
   ]
  },
  {
   "cell_type": "markdown",
   "metadata": {},
   "source": [
    "### Reading the demographic data {-}"
   ]
  },
  {
   "cell_type": "code",
   "execution_count": 133,
   "metadata": {},
   "outputs": [],
   "source": [
    "#read the data from csv file\n",
    "data1_age_sex_race = pd.read_csv(\"data1_age_sex_race.csv\")"
   ]
  },
  {
   "cell_type": "code",
   "execution_count": 134,
   "metadata": {},
   "outputs": [
    {
     "data": {
      "text/html": [
       "<div>\n",
       "<style scoped>\n",
       "    .dataframe tbody tr th:only-of-type {\n",
       "        vertical-align: middle;\n",
       "    }\n",
       "\n",
       "    .dataframe tbody tr th {\n",
       "        vertical-align: top;\n",
       "    }\n",
       "\n",
       "    .dataframe thead th {\n",
       "        text-align: right;\n",
       "    }\n",
       "</style>\n",
       "<table border=\"1\" class=\"dataframe\">\n",
       "  <thead>\n",
       "    <tr style=\"text-align: right;\">\n",
       "      <th></th>\n",
       "      <th>subject_ID</th>\n",
       "      <th>SexAge_Race</th>\n",
       "    </tr>\n",
       "  </thead>\n",
       "  <tbody>\n",
       "    <tr>\n",
       "      <th>0</th>\n",
       "      <td>1</td>\n",
       "      <td>MALE41.2_White</td>\n",
       "    </tr>\n",
       "    <tr>\n",
       "      <th>1</th>\n",
       "      <td>2</td>\n",
       "      <td>FEMALE42.9_White</td>\n",
       "    </tr>\n",
       "    <tr>\n",
       "      <th>2</th>\n",
       "      <td>3</td>\n",
       "      <td>FEMALE38.5_White</td>\n",
       "    </tr>\n",
       "    <tr>\n",
       "      <th>3</th>\n",
       "      <td>4</td>\n",
       "      <td>FEMALE35.6_Hispanic</td>\n",
       "    </tr>\n",
       "    <tr>\n",
       "      <th>4</th>\n",
       "      <td>5</td>\n",
       "      <td>FEMALE48.5_White</td>\n",
       "    </tr>\n",
       "  </tbody>\n",
       "</table>\n",
       "</div>"
      ],
      "text/plain": [
       "   subject_ID          SexAge_Race\n",
       "0           1       MALE41.2_White\n",
       "1           2     FEMALE42.9_White\n",
       "2           3     FEMALE38.5_White\n",
       "3           4  FEMALE35.6_Hispanic\n",
       "4           5     FEMALE48.5_White"
      ]
     },
     "execution_count": 134,
     "metadata": {},
     "output_type": "execute_result"
    }
   ],
   "source": [
    "data1_age_sex_race.head()"
   ]
  },
  {
   "cell_type": "code",
   "execution_count": 135,
   "metadata": {},
   "outputs": [],
   "source": [
    "#rename header subject_ID to Id\n",
    "data1_age_sex_race = data1_age_sex_race.rename(columns={\"subject_ID\":\"Id\"})"
   ]
  },
  {
   "cell_type": "code",
   "execution_count": 136,
   "metadata": {},
   "outputs": [
    {
     "data": {
      "text/html": [
       "<div>\n",
       "<style scoped>\n",
       "    .dataframe tbody tr th:only-of-type {\n",
       "        vertical-align: middle;\n",
       "    }\n",
       "\n",
       "    .dataframe tbody tr th {\n",
       "        vertical-align: top;\n",
       "    }\n",
       "\n",
       "    .dataframe thead th {\n",
       "        text-align: right;\n",
       "    }\n",
       "</style>\n",
       "<table border=\"1\" class=\"dataframe\">\n",
       "  <thead>\n",
       "    <tr style=\"text-align: right;\">\n",
       "      <th></th>\n",
       "      <th>Id</th>\n",
       "      <th>SexAge_Race</th>\n",
       "    </tr>\n",
       "  </thead>\n",
       "  <tbody>\n",
       "    <tr>\n",
       "      <th>0</th>\n",
       "      <td>1</td>\n",
       "      <td>MALE41.2_White</td>\n",
       "    </tr>\n",
       "    <tr>\n",
       "      <th>1</th>\n",
       "      <td>2</td>\n",
       "      <td>FEMALE42.9_White</td>\n",
       "    </tr>\n",
       "    <tr>\n",
       "      <th>2</th>\n",
       "      <td>3</td>\n",
       "      <td>FEMALE38.5_White</td>\n",
       "    </tr>\n",
       "    <tr>\n",
       "      <th>3</th>\n",
       "      <td>4</td>\n",
       "      <td>FEMALE35.6_Hispanic</td>\n",
       "    </tr>\n",
       "    <tr>\n",
       "      <th>4</th>\n",
       "      <td>5</td>\n",
       "      <td>FEMALE48.5_White</td>\n",
       "    </tr>\n",
       "  </tbody>\n",
       "</table>\n",
       "</div>"
      ],
      "text/plain": [
       "   Id          SexAge_Race\n",
       "0   1       MALE41.2_White\n",
       "1   2     FEMALE42.9_White\n",
       "2   3     FEMALE38.5_White\n",
       "3   4  FEMALE35.6_Hispanic\n",
       "4   5     FEMALE48.5_White"
      ]
     },
     "execution_count": 136,
     "metadata": {},
     "output_type": "execute_result"
    }
   ],
   "source": [
    "data1_age_sex_race.head()"
   ]
  },
  {
   "cell_type": "code",
   "execution_count": 137,
   "metadata": {},
   "outputs": [
    {
     "data": {
      "text/plain": [
       "(5000, 2)"
      ]
     },
     "execution_count": 137,
     "metadata": {},
     "output_type": "execute_result"
    }
   ],
   "source": [
    "data1_age_sex_race.shape"
   ]
  },
  {
   "cell_type": "markdown",
   "metadata": {},
   "source": [
    "Using regular expressions to seperate the gender, age and race of the test subjects. "
   ]
  },
  {
   "cell_type": "code",
   "execution_count": 138,
   "metadata": {},
   "outputs": [
    {
     "data": {
      "text/html": [
       "<div>\n",
       "<style scoped>\n",
       "    .dataframe tbody tr th:only-of-type {\n",
       "        vertical-align: middle;\n",
       "    }\n",
       "\n",
       "    .dataframe tbody tr th {\n",
       "        vertical-align: top;\n",
       "    }\n",
       "\n",
       "    .dataframe thead th {\n",
       "        text-align: right;\n",
       "    }\n",
       "</style>\n",
       "<table border=\"1\" class=\"dataframe\">\n",
       "  <thead>\n",
       "    <tr style=\"text-align: right;\">\n",
       "      <th></th>\n",
       "      <th>Id</th>\n",
       "      <th>SexAge_Race</th>\n",
       "      <th>Sex</th>\n",
       "      <th>Age</th>\n",
       "      <th>Race</th>\n",
       "    </tr>\n",
       "  </thead>\n",
       "  <tbody>\n",
       "    <tr>\n",
       "      <th>4990</th>\n",
       "      <td>4991</td>\n",
       "      <td>MALE34.6_White</td>\n",
       "      <td>MALE</td>\n",
       "      <td>34.6</td>\n",
       "      <td>White</td>\n",
       "    </tr>\n",
       "    <tr>\n",
       "      <th>4991</th>\n",
       "      <td>4992</td>\n",
       "      <td>MALE39.4_Hispanic</td>\n",
       "      <td>MALE</td>\n",
       "      <td>39.4</td>\n",
       "      <td>Hispanic</td>\n",
       "    </tr>\n",
       "    <tr>\n",
       "      <th>4992</th>\n",
       "      <td>4993</td>\n",
       "      <td>MALE45.1_White</td>\n",
       "      <td>MALE</td>\n",
       "      <td>45.1</td>\n",
       "      <td>White</td>\n",
       "    </tr>\n",
       "    <tr>\n",
       "      <th>4993</th>\n",
       "      <td>4994</td>\n",
       "      <td>MALE50.9_Asian</td>\n",
       "      <td>MALE</td>\n",
       "      <td>50.9</td>\n",
       "      <td>Asian</td>\n",
       "    </tr>\n",
       "    <tr>\n",
       "      <th>4994</th>\n",
       "      <td>4995</td>\n",
       "      <td>FEMALE41.8_Hispanic</td>\n",
       "      <td>FEMALE</td>\n",
       "      <td>41.8</td>\n",
       "      <td>Hispanic</td>\n",
       "    </tr>\n",
       "    <tr>\n",
       "      <th>4995</th>\n",
       "      <td>4996</td>\n",
       "      <td>FEMALE34.5_Black</td>\n",
       "      <td>FEMALE</td>\n",
       "      <td>34.5</td>\n",
       "      <td>Black</td>\n",
       "    </tr>\n",
       "    <tr>\n",
       "      <th>4996</th>\n",
       "      <td>4997</td>\n",
       "      <td>FEMALE40.5_NA</td>\n",
       "      <td>FEMALE</td>\n",
       "      <td>40.5</td>\n",
       "      <td>NA</td>\n",
       "    </tr>\n",
       "    <tr>\n",
       "      <th>4997</th>\n",
       "      <td>4998</td>\n",
       "      <td>FEMALE44.1_Black</td>\n",
       "      <td>FEMALE</td>\n",
       "      <td>44.1</td>\n",
       "      <td>Black</td>\n",
       "    </tr>\n",
       "    <tr>\n",
       "      <th>4998</th>\n",
       "      <td>4999</td>\n",
       "      <td>FEMALE46.4_Black</td>\n",
       "      <td>FEMALE</td>\n",
       "      <td>46.4</td>\n",
       "      <td>Black</td>\n",
       "    </tr>\n",
       "    <tr>\n",
       "      <th>4999</th>\n",
       "      <td>5000</td>\n",
       "      <td>FEMALE49.9_Black</td>\n",
       "      <td>FEMALE</td>\n",
       "      <td>49.9</td>\n",
       "      <td>Black</td>\n",
       "    </tr>\n",
       "  </tbody>\n",
       "</table>\n",
       "</div>"
      ],
      "text/plain": [
       "        Id          SexAge_Race     Sex   Age      Race\n",
       "4990  4991       MALE34.6_White    MALE  34.6     White\n",
       "4991  4992    MALE39.4_Hispanic    MALE  39.4  Hispanic\n",
       "4992  4993       MALE45.1_White    MALE  45.1     White\n",
       "4993  4994       MALE50.9_Asian    MALE  50.9     Asian\n",
       "4994  4995  FEMALE41.8_Hispanic  FEMALE  41.8  Hispanic\n",
       "4995  4996     FEMALE34.5_Black  FEMALE  34.5     Black\n",
       "4996  4997        FEMALE40.5_NA  FEMALE  40.5        NA\n",
       "4997  4998     FEMALE44.1_Black  FEMALE  44.1     Black\n",
       "4998  4999     FEMALE46.4_Black  FEMALE  46.4     Black\n",
       "4999  5000     FEMALE49.9_Black  FEMALE  49.9     Black"
      ]
     },
     "execution_count": 138,
     "metadata": {},
     "output_type": "execute_result"
    }
   ],
   "source": [
    "#regular expression to separate out SexAge_Race attribute to Sex,Age and Race attributes(columns)\n",
    "import re\n",
    "data1_age_sex_race['Sex'] = data1_age_sex_race.SexAge_Race.apply(lambda x: re.search('(.*[A-Z][a-z]*)\\d', x).group(1))\n",
    "data1_age_sex_race['Age'] = data1_age_sex_race.SexAge_Race.apply(lambda x: re.search('.*[A-Z][a-z]*([-+]?[0-9]*\\.?[0-9]+)\\_', x).group(1))\n",
    "data1_age_sex_race['Race'] = data1_age_sex_race.SexAge_Race.apply(lambda x: re.search('\\_(.*[A-Z][a-z]*)', x).group(1))\n",
    "data1_age_sex_race.tail(10)\n",
    "\n",
    "\n"
   ]
  },
  {
   "cell_type": "markdown",
   "metadata": {},
   "source": [
    "Checking for incorrectly entered values."
   ]
  },
  {
   "cell_type": "code",
   "execution_count": 139,
   "metadata": {},
   "outputs": [
    {
     "data": {
      "text/plain": [
       "array(['MALE', 'FEMALE'], dtype=object)"
      ]
     },
     "execution_count": 139,
     "metadata": {},
     "output_type": "execute_result"
    }
   ],
   "source": [
    "data1_age_sex_race.Sex.unique()"
   ]
  },
  {
   "cell_type": "code",
   "execution_count": 140,
   "metadata": {},
   "outputs": [
    {
     "data": {
      "text/plain": [
       "array(['White', 'Hispanic', 'NA', 'Black', 'Asian'], dtype=object)"
      ]
     },
     "execution_count": 140,
     "metadata": {},
     "output_type": "execute_result"
    }
   ],
   "source": [
    "data1_age_sex_race.Race.unique()"
   ]
  },
  {
   "cell_type": "code",
   "execution_count": 141,
   "metadata": {},
   "outputs": [
    {
     "data": {
      "text/html": [
       "<div>\n",
       "<style scoped>\n",
       "    .dataframe tbody tr th:only-of-type {\n",
       "        vertical-align: middle;\n",
       "    }\n",
       "\n",
       "    .dataframe tbody tr th {\n",
       "        vertical-align: top;\n",
       "    }\n",
       "\n",
       "    .dataframe thead th {\n",
       "        text-align: right;\n",
       "    }\n",
       "</style>\n",
       "<table border=\"1\" class=\"dataframe\">\n",
       "  <thead>\n",
       "    <tr style=\"text-align: right;\">\n",
       "      <th></th>\n",
       "      <th>Id</th>\n",
       "      <th>Sex</th>\n",
       "      <th>Age</th>\n",
       "      <th>Race</th>\n",
       "    </tr>\n",
       "  </thead>\n",
       "  <tbody>\n",
       "    <tr>\n",
       "      <th>0</th>\n",
       "      <td>1</td>\n",
       "      <td>MALE</td>\n",
       "      <td>41.2</td>\n",
       "      <td>White</td>\n",
       "    </tr>\n",
       "    <tr>\n",
       "      <th>1</th>\n",
       "      <td>2</td>\n",
       "      <td>FEMALE</td>\n",
       "      <td>42.9</td>\n",
       "      <td>White</td>\n",
       "    </tr>\n",
       "    <tr>\n",
       "      <th>2</th>\n",
       "      <td>3</td>\n",
       "      <td>FEMALE</td>\n",
       "      <td>38.5</td>\n",
       "      <td>White</td>\n",
       "    </tr>\n",
       "    <tr>\n",
       "      <th>3</th>\n",
       "      <td>4</td>\n",
       "      <td>FEMALE</td>\n",
       "      <td>35.6</td>\n",
       "      <td>Hispanic</td>\n",
       "    </tr>\n",
       "    <tr>\n",
       "      <th>4</th>\n",
       "      <td>5</td>\n",
       "      <td>FEMALE</td>\n",
       "      <td>48.5</td>\n",
       "      <td>White</td>\n",
       "    </tr>\n",
       "  </tbody>\n",
       "</table>\n",
       "</div>"
      ],
      "text/plain": [
       "   Id     Sex   Age      Race\n",
       "0   1    MALE  41.2     White\n",
       "1   2  FEMALE  42.9     White\n",
       "2   3  FEMALE  38.5     White\n",
       "3   4  FEMALE  35.6  Hispanic\n",
       "4   5  FEMALE  48.5     White"
      ]
     },
     "execution_count": 141,
     "metadata": {},
     "output_type": "execute_result"
    }
   ],
   "source": [
    "data1_age_sex_race=data1_age_sex_race.drop(['SexAge_Race'], axis = 1) \n",
    "data1_age_sex_race.head()"
   ]
  },
  {
   "cell_type": "code",
   "execution_count": 142,
   "metadata": {
    "scrolled": true
   },
   "outputs": [
    {
     "data": {
      "text/html": [
       "<div>\n",
       "<style scoped>\n",
       "    .dataframe tbody tr th:only-of-type {\n",
       "        vertical-align: middle;\n",
       "    }\n",
       "\n",
       "    .dataframe tbody tr th {\n",
       "        vertical-align: top;\n",
       "    }\n",
       "\n",
       "    .dataframe thead th {\n",
       "        text-align: right;\n",
       "    }\n",
       "</style>\n",
       "<table border=\"1\" class=\"dataframe\">\n",
       "  <thead>\n",
       "    <tr style=\"text-align: right;\">\n",
       "      <th></th>\n",
       "      <th>Id</th>\n",
       "      <th>Sex</th>\n",
       "      <th>Age</th>\n",
       "      <th>Race</th>\n",
       "      <th>trt</th>\n",
       "      <th>SRH_POST</th>\n",
       "      <th>SRH_PRE</th>\n",
       "      <th>PRE_WEIGHT</th>\n",
       "      <th>POST_WEIGHT</th>\n",
       "    </tr>\n",
       "  </thead>\n",
       "  <tbody>\n",
       "    <tr>\n",
       "      <th>0</th>\n",
       "      <td>1</td>\n",
       "      <td>MALE</td>\n",
       "      <td>41.2</td>\n",
       "      <td>White</td>\n",
       "      <td>1</td>\n",
       "      <td>Poor</td>\n",
       "      <td>Good</td>\n",
       "      <td>135.2510</td>\n",
       "      <td>125.6678</td>\n",
       "    </tr>\n",
       "    <tr>\n",
       "      <th>1</th>\n",
       "      <td>2</td>\n",
       "      <td>FEMALE</td>\n",
       "      <td>42.9</td>\n",
       "      <td>White</td>\n",
       "      <td>1</td>\n",
       "      <td>Very Poor</td>\n",
       "      <td>Poor</td>\n",
       "      <td>154.8713</td>\n",
       "      <td>153.9882</td>\n",
       "    </tr>\n",
       "    <tr>\n",
       "      <th>2</th>\n",
       "      <td>3</td>\n",
       "      <td>FEMALE</td>\n",
       "      <td>38.5</td>\n",
       "      <td>White</td>\n",
       "      <td>1</td>\n",
       "      <td>Good</td>\n",
       "      <td>Satisfactory</td>\n",
       "      <td>128.1951</td>\n",
       "      <td>115.5969</td>\n",
       "    </tr>\n",
       "    <tr>\n",
       "      <th>3</th>\n",
       "      <td>4</td>\n",
       "      <td>FEMALE</td>\n",
       "      <td>35.6</td>\n",
       "      <td>Hispanic</td>\n",
       "      <td>1</td>\n",
       "      <td>Good</td>\n",
       "      <td>Poor</td>\n",
       "      <td>183.4600</td>\n",
       "      <td>177.0187</td>\n",
       "    </tr>\n",
       "    <tr>\n",
       "      <th>4</th>\n",
       "      <td>5</td>\n",
       "      <td>FEMALE</td>\n",
       "      <td>48.5</td>\n",
       "      <td>White</td>\n",
       "      <td>1</td>\n",
       "      <td>Poor</td>\n",
       "      <td>Poor</td>\n",
       "      <td>166.3726</td>\n",
       "      <td>163.9262</td>\n",
       "    </tr>\n",
       "  </tbody>\n",
       "</table>\n",
       "</div>"
      ],
      "text/plain": [
       "   Id     Sex   Age      Race  trt   SRH_POST       SRH_PRE  PRE_WEIGHT  \\\n",
       "0   1    MALE  41.2     White    1       Poor          Good    135.2510   \n",
       "1   2  FEMALE  42.9     White    1  Very Poor          Poor    154.8713   \n",
       "2   3  FEMALE  38.5     White    1       Good  Satisfactory    128.1951   \n",
       "3   4  FEMALE  35.6  Hispanic    1       Good          Poor    183.4600   \n",
       "4   5  FEMALE  48.5     White    1       Poor          Poor    166.3726   \n",
       "\n",
       "   POST_WEIGHT  \n",
       "0     125.6678  \n",
       "1     153.9882  \n",
       "2     115.5969  \n",
       "3     177.0187  \n",
       "4     163.9262  "
      ]
     },
     "execution_count": 142,
     "metadata": {},
     "output_type": "execute_result"
    }
   ],
   "source": [
    "df= pd.merge(data1_age_sex_race, srh_weight, on='Id')\n",
    "df.head()"
   ]
  },
  {
   "cell_type": "code",
   "execution_count": 143,
   "metadata": {},
   "outputs": [
    {
     "data": {
      "text/plain": [
       "Id             0\n",
       "Sex            0\n",
       "Age            0\n",
       "Race           0\n",
       "trt            0\n",
       "SRH_POST       0\n",
       "SRH_PRE        0\n",
       "PRE_WEIGHT     0\n",
       "POST_WEIGHT    0\n",
       "dtype: int64"
      ]
     },
     "execution_count": 143,
     "metadata": {},
     "output_type": "execute_result"
    }
   ],
   "source": [
    "df.isnull().sum()      # no missing data"
   ]
  },
  {
   "cell_type": "code",
   "execution_count": 144,
   "metadata": {
    "scrolled": true
   },
   "outputs": [
    {
     "data": {
      "text/plain": [
       "(5000, 9)"
      ]
     },
     "execution_count": 144,
     "metadata": {},
     "output_type": "execute_result"
    }
   ],
   "source": [
    "df.shape"
   ]
  },
  {
   "cell_type": "markdown",
   "metadata": {},
   "source": [
    "### Task2.Explore and analyze the data as you see fit. Please show at least one plot. {-}"
   ]
  },
  {
   "cell_type": "markdown",
   "metadata": {},
   "source": [
    "### Exploratory Data Analysis {-}"
   ]
  },
  {
   "cell_type": "code",
   "execution_count": 145,
   "metadata": {},
   "outputs": [
    {
     "data": {
      "text/plain": [
       "<matplotlib.axes._subplots.AxesSubplot at 0x1a1a361da0>"
      ]
     },
     "execution_count": 145,
     "metadata": {},
     "output_type": "execute_result"
    },
    {
     "data": {
      "image/png": "[encoded data removed]",
      "text/plain": [
       "<Figure size 432x288 with 1 Axes>"
      ]
     },
     "metadata": {
      "needs_background": "light"
     },
     "output_type": "display_data"
    }
   ],
   "source": [
    "count_df = pd.crosstab(df.Sex, df.Race) # cross tabulation of gender and race\n",
    "count_df.plot(kind='bar', stacked=True) # genders pretty evenly divided in all races except white \n",
    "                                        # - more white females present\n",
    "    plt.show()"
   ]
  },
  {
   "cell_type": "markdown",
   "metadata": {},
   "source": [
    "Calculating the change in weights of the test subjects after the treatment. Note that negative values mean weight loss and would be considered the \"healthier\" option. "
   ]
  },
  {
   "cell_type": "code",
   "execution_count": 146,
   "metadata": {
    "scrolled": true
   },
   "outputs": [
    {
     "data": {
      "text/html": [
       "<div>\n",
       "<style scoped>\n",
       "    .dataframe tbody tr th:only-of-type {\n",
       "        vertical-align: middle;\n",
       "    }\n",
       "\n",
       "    .dataframe tbody tr th {\n",
       "        vertical-align: top;\n",
       "    }\n",
       "\n",
       "    .dataframe thead th {\n",
       "        text-align: right;\n",
       "    }\n",
       "</style>\n",
       "<table border=\"1\" class=\"dataframe\">\n",
       "  <thead>\n",
       "    <tr style=\"text-align: right;\">\n",
       "      <th></th>\n",
       "      <th>Id</th>\n",
       "      <th>Sex</th>\n",
       "      <th>Age</th>\n",
       "      <th>Race</th>\n",
       "      <th>trt</th>\n",
       "      <th>SRH_POST</th>\n",
       "      <th>SRH_PRE</th>\n",
       "      <th>PRE_WEIGHT</th>\n",
       "      <th>POST_WEIGHT</th>\n",
       "      <th>Weight_diff</th>\n",
       "    </tr>\n",
       "  </thead>\n",
       "  <tbody>\n",
       "    <tr>\n",
       "      <th>0</th>\n",
       "      <td>1</td>\n",
       "      <td>MALE</td>\n",
       "      <td>41.2</td>\n",
       "      <td>White</td>\n",
       "      <td>1</td>\n",
       "      <td>Poor</td>\n",
       "      <td>Good</td>\n",
       "      <td>135.2510</td>\n",
       "      <td>125.6678</td>\n",
       "      <td>-9.5832</td>\n",
       "    </tr>\n",
       "    <tr>\n",
       "      <th>1</th>\n",
       "      <td>2</td>\n",
       "      <td>FEMALE</td>\n",
       "      <td>42.9</td>\n",
       "      <td>White</td>\n",
       "      <td>1</td>\n",
       "      <td>Very Poor</td>\n",
       "      <td>Poor</td>\n",
       "      <td>154.8713</td>\n",
       "      <td>153.9882</td>\n",
       "      <td>-0.8831</td>\n",
       "    </tr>\n",
       "    <tr>\n",
       "      <th>2</th>\n",
       "      <td>3</td>\n",
       "      <td>FEMALE</td>\n",
       "      <td>38.5</td>\n",
       "      <td>White</td>\n",
       "      <td>1</td>\n",
       "      <td>Good</td>\n",
       "      <td>Satisfactory</td>\n",
       "      <td>128.1951</td>\n",
       "      <td>115.5969</td>\n",
       "      <td>-12.5982</td>\n",
       "    </tr>\n",
       "    <tr>\n",
       "      <th>3</th>\n",
       "      <td>4</td>\n",
       "      <td>FEMALE</td>\n",
       "      <td>35.6</td>\n",
       "      <td>Hispanic</td>\n",
       "      <td>1</td>\n",
       "      <td>Good</td>\n",
       "      <td>Poor</td>\n",
       "      <td>183.4600</td>\n",
       "      <td>177.0187</td>\n",
       "      <td>-6.4413</td>\n",
       "    </tr>\n",
       "    <tr>\n",
       "      <th>4</th>\n",
       "      <td>5</td>\n",
       "      <td>FEMALE</td>\n",
       "      <td>48.5</td>\n",
       "      <td>White</td>\n",
       "      <td>1</td>\n",
       "      <td>Poor</td>\n",
       "      <td>Poor</td>\n",
       "      <td>166.3726</td>\n",
       "      <td>163.9262</td>\n",
       "      <td>-2.4464</td>\n",
       "    </tr>\n",
       "  </tbody>\n",
       "</table>\n",
       "</div>"
      ],
      "text/plain": [
       "   Id     Sex   Age      Race  trt   SRH_POST       SRH_PRE  PRE_WEIGHT  \\\n",
       "0   1    MALE  41.2     White    1       Poor          Good    135.2510   \n",
       "1   2  FEMALE  42.9     White    1  Very Poor          Poor    154.8713   \n",
       "2   3  FEMALE  38.5     White    1       Good  Satisfactory    128.1951   \n",
       "3   4  FEMALE  35.6  Hispanic    1       Good          Poor    183.4600   \n",
       "4   5  FEMALE  48.5     White    1       Poor          Poor    166.3726   \n",
       "\n",
       "   POST_WEIGHT  Weight_diff  \n",
       "0     125.6678      -9.5832  \n",
       "1     153.9882      -0.8831  \n",
       "2     115.5969     -12.5982  \n",
       "3     177.0187      -6.4413  \n",
       "4     163.9262      -2.4464  "
      ]
     },
     "execution_count": 146,
     "metadata": {},
     "output_type": "execute_result"
    }
   ],
   "source": [
    "df['Weight_diff'] = df['POST_WEIGHT'] - df['PRE_WEIGHT']   # negative means weight loss - good\n",
    "df.head()"
   ]
  },
  {
   "cell_type": "markdown",
   "metadata": {},
   "source": [
    "Checking wrongly entered values in SRH"
   ]
  },
  {
   "cell_type": "code",
   "execution_count": 147,
   "metadata": {
    "scrolled": true
   },
   "outputs": [
    {
     "data": {
      "text/plain": [
       "array(['Poor', 'Very Poor', 'Good', 'Excellent', 'Satisfactory',\n",
       "       'Excellent ', 'Very  Poor'], dtype=object)"
      ]
     },
     "execution_count": 147,
     "metadata": {},
     "output_type": "execute_result"
    }
   ],
   "source": [
    "df.SRH_POST.unique()"
   ]
  },
  {
   "cell_type": "code",
   "execution_count": 148,
   "metadata": {},
   "outputs": [
    {
     "data": {
      "text/plain": [
       "array(['Good', 'Poor', 'Satisfactory', 'Excellent', 'Very Poor',\n",
       "       'Excellent ', 'Very  Poor'], dtype=object)"
      ]
     },
     "execution_count": 148,
     "metadata": {},
     "output_type": "execute_result"
    }
   ],
   "source": [
    "df.SRH_PRE.unique()"
   ]
  },
  {
   "cell_type": "markdown",
   "metadata": {},
   "source": [
    "Remove values that were entered wrong."
   ]
  },
  {
   "cell_type": "code",
   "execution_count": 149,
   "metadata": {},
   "outputs": [
    {
     "data": {
      "text/html": [
       "<div>\n",
       "<style scoped>\n",
       "    .dataframe tbody tr th:only-of-type {\n",
       "        vertical-align: middle;\n",
       "    }\n",
       "\n",
       "    .dataframe tbody tr th {\n",
       "        vertical-align: top;\n",
       "    }\n",
       "\n",
       "    .dataframe thead th {\n",
       "        text-align: right;\n",
       "    }\n",
       "</style>\n",
       "<table border=\"1\" class=\"dataframe\">\n",
       "  <thead>\n",
       "    <tr style=\"text-align: right;\">\n",
       "      <th></th>\n",
       "      <th>Id</th>\n",
       "      <th>Sex</th>\n",
       "      <th>Age</th>\n",
       "      <th>Race</th>\n",
       "      <th>trt</th>\n",
       "      <th>SRH_POST</th>\n",
       "      <th>SRH_PRE</th>\n",
       "      <th>PRE_WEIGHT</th>\n",
       "      <th>POST_WEIGHT</th>\n",
       "      <th>Weight_diff</th>\n",
       "    </tr>\n",
       "  </thead>\n",
       "  <tbody>\n",
       "    <tr>\n",
       "      <th>0</th>\n",
       "      <td>1</td>\n",
       "      <td>MALE</td>\n",
       "      <td>41.2</td>\n",
       "      <td>White</td>\n",
       "      <td>1</td>\n",
       "      <td>Poor</td>\n",
       "      <td>Good</td>\n",
       "      <td>135.2510</td>\n",
       "      <td>125.6678</td>\n",
       "      <td>-9.5832</td>\n",
       "    </tr>\n",
       "    <tr>\n",
       "      <th>1</th>\n",
       "      <td>2</td>\n",
       "      <td>FEMALE</td>\n",
       "      <td>42.9</td>\n",
       "      <td>White</td>\n",
       "      <td>1</td>\n",
       "      <td>Very Poor</td>\n",
       "      <td>Poor</td>\n",
       "      <td>154.8713</td>\n",
       "      <td>153.9882</td>\n",
       "      <td>-0.8831</td>\n",
       "    </tr>\n",
       "    <tr>\n",
       "      <th>2</th>\n",
       "      <td>3</td>\n",
       "      <td>FEMALE</td>\n",
       "      <td>38.5</td>\n",
       "      <td>White</td>\n",
       "      <td>1</td>\n",
       "      <td>Good</td>\n",
       "      <td>Satisfactory</td>\n",
       "      <td>128.1951</td>\n",
       "      <td>115.5969</td>\n",
       "      <td>-12.5982</td>\n",
       "    </tr>\n",
       "    <tr>\n",
       "      <th>3</th>\n",
       "      <td>4</td>\n",
       "      <td>FEMALE</td>\n",
       "      <td>35.6</td>\n",
       "      <td>Hispanic</td>\n",
       "      <td>1</td>\n",
       "      <td>Good</td>\n",
       "      <td>Poor</td>\n",
       "      <td>183.4600</td>\n",
       "      <td>177.0187</td>\n",
       "      <td>-6.4413</td>\n",
       "    </tr>\n",
       "    <tr>\n",
       "      <th>4</th>\n",
       "      <td>5</td>\n",
       "      <td>FEMALE</td>\n",
       "      <td>48.5</td>\n",
       "      <td>White</td>\n",
       "      <td>1</td>\n",
       "      <td>Poor</td>\n",
       "      <td>Poor</td>\n",
       "      <td>166.3726</td>\n",
       "      <td>163.9262</td>\n",
       "      <td>-2.4464</td>\n",
       "    </tr>\n",
       "  </tbody>\n",
       "</table>\n",
       "</div>"
      ],
      "text/plain": [
       "   Id     Sex   Age      Race  trt   SRH_POST       SRH_PRE  PRE_WEIGHT  \\\n",
       "0   1    MALE  41.2     White    1       Poor          Good    135.2510   \n",
       "1   2  FEMALE  42.9     White    1  Very Poor          Poor    154.8713   \n",
       "2   3  FEMALE  38.5     White    1       Good  Satisfactory    128.1951   \n",
       "3   4  FEMALE  35.6  Hispanic    1       Good          Poor    183.4600   \n",
       "4   5  FEMALE  48.5     White    1       Poor          Poor    166.3726   \n",
       "\n",
       "   POST_WEIGHT  Weight_diff  \n",
       "0     125.6678      -9.5832  \n",
       "1     153.9882      -0.8831  \n",
       "2     115.5969     -12.5982  \n",
       "3     177.0187      -6.4413  \n",
       "4     163.9262      -2.4464  "
      ]
     },
     "execution_count": 149,
     "metadata": {},
     "output_type": "execute_result"
    }
   ],
   "source": [
    "df=df.replace({'SRH_PRE': {'Excellent ':'Excellent', 'Very  Poor' : 'Very Poor'}, 'SRH_POST': {'Excellent ':'Excellent', 'Very  Poor': 'Very Poor' }})\n",
    "df.head()\n"
   ]
  },
  {
   "cell_type": "code",
   "execution_count": 150,
   "metadata": {},
   "outputs": [
    {
     "data": {
      "text/plain": [
       "array(['Good', 'Poor', 'Satisfactory', 'Excellent', 'Very Poor'],\n",
       "      dtype=object)"
      ]
     },
     "execution_count": 150,
     "metadata": {},
     "output_type": "execute_result"
    }
   ],
   "source": [
    "df.SRH_PRE.unique()"
   ]
  },
  {
   "cell_type": "code",
   "execution_count": 151,
   "metadata": {},
   "outputs": [
    {
     "data": {
      "text/plain": [
       "array(['Poor', 'Very Poor', 'Good', 'Excellent', 'Satisfactory'],\n",
       "      dtype=object)"
      ]
     },
     "execution_count": 151,
     "metadata": {},
     "output_type": "execute_result"
    }
   ],
   "source": [
    "df.SRH_POST.unique()"
   ]
  },
  {
   "cell_type": "markdown",
   "metadata": {},
   "source": [
    "Here, the SRH values are converted from text to a number for easier processing later on. It is done as data on ordinal scale."
   ]
  },
  {
   "cell_type": "code",
   "execution_count": 152,
   "metadata": {},
   "outputs": [
    {
     "data": {
      "text/html": [
       "<div>\n",
       "<style scoped>\n",
       "    .dataframe tbody tr th:only-of-type {\n",
       "        vertical-align: middle;\n",
       "    }\n",
       "\n",
       "    .dataframe tbody tr th {\n",
       "        vertical-align: top;\n",
       "    }\n",
       "\n",
       "    .dataframe thead th {\n",
       "        text-align: right;\n",
       "    }\n",
       "</style>\n",
       "<table border=\"1\" class=\"dataframe\">\n",
       "  <thead>\n",
       "    <tr style=\"text-align: right;\">\n",
       "      <th></th>\n",
       "      <th>Id</th>\n",
       "      <th>Sex</th>\n",
       "      <th>Age</th>\n",
       "      <th>Race</th>\n",
       "      <th>trt</th>\n",
       "      <th>SRH_POST</th>\n",
       "      <th>SRH_PRE</th>\n",
       "      <th>PRE_WEIGHT</th>\n",
       "      <th>POST_WEIGHT</th>\n",
       "      <th>Weight_diff</th>\n",
       "    </tr>\n",
       "  </thead>\n",
       "  <tbody>\n",
       "    <tr>\n",
       "      <th>0</th>\n",
       "      <td>1</td>\n",
       "      <td>MALE</td>\n",
       "      <td>41.2</td>\n",
       "      <td>White</td>\n",
       "      <td>1</td>\n",
       "      <td>2</td>\n",
       "      <td>4</td>\n",
       "      <td>135.2510</td>\n",
       "      <td>125.6678</td>\n",
       "      <td>-9.5832</td>\n",
       "    </tr>\n",
       "    <tr>\n",
       "      <th>1</th>\n",
       "      <td>2</td>\n",
       "      <td>FEMALE</td>\n",
       "      <td>42.9</td>\n",
       "      <td>White</td>\n",
       "      <td>1</td>\n",
       "      <td>1</td>\n",
       "      <td>2</td>\n",
       "      <td>154.8713</td>\n",
       "      <td>153.9882</td>\n",
       "      <td>-0.8831</td>\n",
       "    </tr>\n",
       "    <tr>\n",
       "      <th>2</th>\n",
       "      <td>3</td>\n",
       "      <td>FEMALE</td>\n",
       "      <td>38.5</td>\n",
       "      <td>White</td>\n",
       "      <td>1</td>\n",
       "      <td>4</td>\n",
       "      <td>3</td>\n",
       "      <td>128.1951</td>\n",
       "      <td>115.5969</td>\n",
       "      <td>-12.5982</td>\n",
       "    </tr>\n",
       "    <tr>\n",
       "      <th>3</th>\n",
       "      <td>4</td>\n",
       "      <td>FEMALE</td>\n",
       "      <td>35.6</td>\n",
       "      <td>Hispanic</td>\n",
       "      <td>1</td>\n",
       "      <td>4</td>\n",
       "      <td>2</td>\n",
       "      <td>183.4600</td>\n",
       "      <td>177.0187</td>\n",
       "      <td>-6.4413</td>\n",
       "    </tr>\n",
       "    <tr>\n",
       "      <th>4</th>\n",
       "      <td>5</td>\n",
       "      <td>FEMALE</td>\n",
       "      <td>48.5</td>\n",
       "      <td>White</td>\n",
       "      <td>1</td>\n",
       "      <td>2</td>\n",
       "      <td>2</td>\n",
       "      <td>166.3726</td>\n",
       "      <td>163.9262</td>\n",
       "      <td>-2.4464</td>\n",
       "    </tr>\n",
       "  </tbody>\n",
       "</table>\n",
       "</div>"
      ],
      "text/plain": [
       "   Id     Sex   Age      Race  trt  SRH_POST  SRH_PRE  PRE_WEIGHT  \\\n",
       "0   1    MALE  41.2     White    1         2        4    135.2510   \n",
       "1   2  FEMALE  42.9     White    1         1        2    154.8713   \n",
       "2   3  FEMALE  38.5     White    1         4        3    128.1951   \n",
       "3   4  FEMALE  35.6  Hispanic    1         4        2    183.4600   \n",
       "4   5  FEMALE  48.5     White    1         2        2    166.3726   \n",
       "\n",
       "   POST_WEIGHT  Weight_diff  \n",
       "0     125.6678      -9.5832  \n",
       "1     153.9882      -0.8831  \n",
       "2     115.5969     -12.5982  \n",
       "3     177.0187      -6.4413  \n",
       "4     163.9262      -2.4464  "
      ]
     },
     "execution_count": 152,
     "metadata": {},
     "output_type": "execute_result"
    }
   ],
   "source": [
    "dic = {'Very Poor':1, 'Poor':2 , 'Satisfactory':3, 'Good':4, 'Excellent':5}\n",
    "df= df.replace({\"SRH_POST\": dic})\n",
    "df= df.replace({\"SRH_PRE\": dic})\n",
    "df.head()"
   ]
  },
  {
   "cell_type": "markdown",
   "metadata": {},
   "source": [
    "Getting an SRH score -- this is the change in SRH on the previously defined scale. Here positive values are an improvement in health. "
   ]
  },
  {
   "cell_type": "code",
   "execution_count": 153,
   "metadata": {},
   "outputs": [
    {
     "data": {
      "text/html": [
       "<div>\n",
       "<style scoped>\n",
       "    .dataframe tbody tr th:only-of-type {\n",
       "        vertical-align: middle;\n",
       "    }\n",
       "\n",
       "    .dataframe tbody tr th {\n",
       "        vertical-align: top;\n",
       "    }\n",
       "\n",
       "    .dataframe thead th {\n",
       "        text-align: right;\n",
       "    }\n",
       "</style>\n",
       "<table border=\"1\" class=\"dataframe\">\n",
       "  <thead>\n",
       "    <tr style=\"text-align: right;\">\n",
       "      <th></th>\n",
       "      <th>Id</th>\n",
       "      <th>Sex</th>\n",
       "      <th>Age</th>\n",
       "      <th>Race</th>\n",
       "      <th>trt</th>\n",
       "      <th>SRH_POST</th>\n",
       "      <th>SRH_PRE</th>\n",
       "      <th>PRE_WEIGHT</th>\n",
       "      <th>POST_WEIGHT</th>\n",
       "      <th>Weight_diff</th>\n",
       "      <th>SRH_SCORE</th>\n",
       "    </tr>\n",
       "  </thead>\n",
       "  <tbody>\n",
       "    <tr>\n",
       "      <th>0</th>\n",
       "      <td>1</td>\n",
       "      <td>MALE</td>\n",
       "      <td>41.2</td>\n",
       "      <td>White</td>\n",
       "      <td>1</td>\n",
       "      <td>2</td>\n",
       "      <td>4</td>\n",
       "      <td>135.2510</td>\n",
       "      <td>125.6678</td>\n",
       "      <td>-9.5832</td>\n",
       "      <td>-2</td>\n",
       "    </tr>\n",
       "    <tr>\n",
       "      <th>1</th>\n",
       "      <td>2</td>\n",
       "      <td>FEMALE</td>\n",
       "      <td>42.9</td>\n",
       "      <td>White</td>\n",
       "      <td>1</td>\n",
       "      <td>1</td>\n",
       "      <td>2</td>\n",
       "      <td>154.8713</td>\n",
       "      <td>153.9882</td>\n",
       "      <td>-0.8831</td>\n",
       "      <td>-1</td>\n",
       "    </tr>\n",
       "    <tr>\n",
       "      <th>2</th>\n",
       "      <td>3</td>\n",
       "      <td>FEMALE</td>\n",
       "      <td>38.5</td>\n",
       "      <td>White</td>\n",
       "      <td>1</td>\n",
       "      <td>4</td>\n",
       "      <td>3</td>\n",
       "      <td>128.1951</td>\n",
       "      <td>115.5969</td>\n",
       "      <td>-12.5982</td>\n",
       "      <td>1</td>\n",
       "    </tr>\n",
       "    <tr>\n",
       "      <th>3</th>\n",
       "      <td>4</td>\n",
       "      <td>FEMALE</td>\n",
       "      <td>35.6</td>\n",
       "      <td>Hispanic</td>\n",
       "      <td>1</td>\n",
       "      <td>4</td>\n",
       "      <td>2</td>\n",
       "      <td>183.4600</td>\n",
       "      <td>177.0187</td>\n",
       "      <td>-6.4413</td>\n",
       "      <td>2</td>\n",
       "    </tr>\n",
       "    <tr>\n",
       "      <th>4</th>\n",
       "      <td>5</td>\n",
       "      <td>FEMALE</td>\n",
       "      <td>48.5</td>\n",
       "      <td>White</td>\n",
       "      <td>1</td>\n",
       "      <td>2</td>\n",
       "      <td>2</td>\n",
       "      <td>166.3726</td>\n",
       "      <td>163.9262</td>\n",
       "      <td>-2.4464</td>\n",
       "      <td>0</td>\n",
       "    </tr>\n",
       "  </tbody>\n",
       "</table>\n",
       "</div>"
      ],
      "text/plain": [
       "   Id     Sex   Age      Race  trt  SRH_POST  SRH_PRE  PRE_WEIGHT  \\\n",
       "0   1    MALE  41.2     White    1         2        4    135.2510   \n",
       "1   2  FEMALE  42.9     White    1         1        2    154.8713   \n",
       "2   3  FEMALE  38.5     White    1         4        3    128.1951   \n",
       "3   4  FEMALE  35.6  Hispanic    1         4        2    183.4600   \n",
       "4   5  FEMALE  48.5     White    1         2        2    166.3726   \n",
       "\n",
       "   POST_WEIGHT  Weight_diff  SRH_SCORE  \n",
       "0     125.6678      -9.5832         -2  \n",
       "1     153.9882      -0.8831         -1  \n",
       "2     115.5969     -12.5982          1  \n",
       "3     177.0187      -6.4413          2  \n",
       "4     163.9262      -2.4464          0  "
      ]
     },
     "execution_count": 153,
     "metadata": {},
     "output_type": "execute_result"
    }
   ],
   "source": [
    "df['SRH_SCORE'] = df['SRH_POST'] - df['SRH_PRE']     # positive values are good\n",
    "df.head()"
   ]
  },
  {
   "cell_type": "code",
   "execution_count": 154,
   "metadata": {},
   "outputs": [
    {
     "data": {
      "text/html": [
       "<div>\n",
       "<style scoped>\n",
       "    .dataframe tbody tr th:only-of-type {\n",
       "        vertical-align: middle;\n",
       "    }\n",
       "\n",
       "    .dataframe tbody tr th {\n",
       "        vertical-align: top;\n",
       "    }\n",
       "\n",
       "    .dataframe thead th {\n",
       "        text-align: right;\n",
       "    }\n",
       "</style>\n",
       "<table border=\"1\" class=\"dataframe\">\n",
       "  <thead>\n",
       "    <tr style=\"text-align: right;\">\n",
       "      <th></th>\n",
       "      <th>Id</th>\n",
       "      <th>trt</th>\n",
       "      <th>SRH_POST</th>\n",
       "      <th>SRH_PRE</th>\n",
       "      <th>PRE_WEIGHT</th>\n",
       "      <th>POST_WEIGHT</th>\n",
       "      <th>Weight_diff</th>\n",
       "      <th>SRH_SCORE</th>\n",
       "    </tr>\n",
       "  </thead>\n",
       "  <tbody>\n",
       "    <tr>\n",
       "      <th>count</th>\n",
       "      <td>5000.000000</td>\n",
       "      <td>5000.00000</td>\n",
       "      <td>5000.000000</td>\n",
       "      <td>5000.000000</td>\n",
       "      <td>5000.000000</td>\n",
       "      <td>5000.000000</td>\n",
       "      <td>5000.000000</td>\n",
       "      <td>5000.000000</td>\n",
       "    </tr>\n",
       "    <tr>\n",
       "      <th>mean</th>\n",
       "      <td>2500.500000</td>\n",
       "      <td>0.50000</td>\n",
       "      <td>3.230000</td>\n",
       "      <td>2.976200</td>\n",
       "      <td>159.855089</td>\n",
       "      <td>154.967374</td>\n",
       "      <td>-4.887715</td>\n",
       "      <td>0.253800</td>\n",
       "    </tr>\n",
       "    <tr>\n",
       "      <th>std</th>\n",
       "      <td>1443.520003</td>\n",
       "      <td>0.50005</td>\n",
       "      <td>1.534917</td>\n",
       "      <td>1.579282</td>\n",
       "      <td>21.596117</td>\n",
       "      <td>21.661830</td>\n",
       "      <td>7.645269</td>\n",
       "      <td>1.201363</td>\n",
       "    </tr>\n",
       "    <tr>\n",
       "      <th>min</th>\n",
       "      <td>1.000000</td>\n",
       "      <td>0.00000</td>\n",
       "      <td>1.000000</td>\n",
       "      <td>1.000000</td>\n",
       "      <td>82.803790</td>\n",
       "      <td>78.090870</td>\n",
       "      <td>-38.801200</td>\n",
       "      <td>-4.000000</td>\n",
       "    </tr>\n",
       "    <tr>\n",
       "      <th>25%</th>\n",
       "      <td>1250.750000</td>\n",
       "      <td>0.00000</td>\n",
       "      <td>2.000000</td>\n",
       "      <td>1.000000</td>\n",
       "      <td>145.126975</td>\n",
       "      <td>140.109450</td>\n",
       "      <td>-9.103075</td>\n",
       "      <td>0.000000</td>\n",
       "    </tr>\n",
       "    <tr>\n",
       "      <th>50%</th>\n",
       "      <td>2500.500000</td>\n",
       "      <td>0.50000</td>\n",
       "      <td>3.000000</td>\n",
       "      <td>3.000000</td>\n",
       "      <td>159.113800</td>\n",
       "      <td>154.624650</td>\n",
       "      <td>-1.969600</td>\n",
       "      <td>0.000000</td>\n",
       "    </tr>\n",
       "    <tr>\n",
       "      <th>75%</th>\n",
       "      <td>3750.250000</td>\n",
       "      <td>1.00000</td>\n",
       "      <td>5.000000</td>\n",
       "      <td>5.000000</td>\n",
       "      <td>174.384500</td>\n",
       "      <td>169.540225</td>\n",
       "      <td>0.031925</td>\n",
       "      <td>1.000000</td>\n",
       "    </tr>\n",
       "    <tr>\n",
       "      <th>max</th>\n",
       "      <td>5000.000000</td>\n",
       "      <td>1.00000</td>\n",
       "      <td>5.000000</td>\n",
       "      <td>5.000000</td>\n",
       "      <td>242.763200</td>\n",
       "      <td>229.274700</td>\n",
       "      <td>18.347900</td>\n",
       "      <td>4.000000</td>\n",
       "    </tr>\n",
       "  </tbody>\n",
       "</table>\n",
       "</div>"
      ],
      "text/plain": [
       "                Id         trt     SRH_POST      SRH_PRE   PRE_WEIGHT  \\\n",
       "count  5000.000000  5000.00000  5000.000000  5000.000000  5000.000000   \n",
       "mean   2500.500000     0.50000     3.230000     2.976200   159.855089   \n",
       "std    1443.520003     0.50005     1.534917     1.579282    21.596117   \n",
       "min       1.000000     0.00000     1.000000     1.000000    82.803790   \n",
       "25%    1250.750000     0.00000     2.000000     1.000000   145.126975   \n",
       "50%    2500.500000     0.50000     3.000000     3.000000   159.113800   \n",
       "75%    3750.250000     1.00000     5.000000     5.000000   174.384500   \n",
       "max    5000.000000     1.00000     5.000000     5.000000   242.763200   \n",
       "\n",
       "       POST_WEIGHT  Weight_diff    SRH_SCORE  \n",
       "count  5000.000000  5000.000000  5000.000000  \n",
       "mean    154.967374    -4.887715     0.253800  \n",
       "std      21.661830     7.645269     1.201363  \n",
       "min      78.090870   -38.801200    -4.000000  \n",
       "25%     140.109450    -9.103075     0.000000  \n",
       "50%     154.624650    -1.969600     0.000000  \n",
       "75%     169.540225     0.031925     1.000000  \n",
       "max     229.274700    18.347900     4.000000  "
      ]
     },
     "execution_count": 154,
     "metadata": {},
     "output_type": "execute_result"
    }
   ],
   "source": [
    "df.describe()"
   ]
  },
  {
   "cell_type": "code",
   "execution_count": 155,
   "metadata": {},
   "outputs": [
    {
     "data": {
      "text/plain": [
       "trt  SRH_SCORE\n",
       "0     0           58.28\n",
       "     -1           11.72\n",
       "      1           11.08\n",
       "     -2            7.12\n",
       "      2            5.88\n",
       "      3            3.32\n",
       "     -3            2.04\n",
       "      4            0.32\n",
       "     -4            0.24\n",
       "1     0           52.44\n",
       "      2           16.56\n",
       "      1           13.40\n",
       "     -1            7.64\n",
       "      3            5.64\n",
       "     -2            2.44\n",
       "     -3            1.20\n",
       "      4            0.64\n",
       "     -4            0.04\n",
       "Name: SRH_SCORE, dtype: float64"
      ]
     },
     "execution_count": 155,
     "metadata": {},
     "output_type": "execute_result"
    }
   ],
   "source": [
    "#\n",
    "srh_rate=((srh_score_count / srh_score_count.groupby('trt').sum())*100)\n",
    "srh_rate"
   ]
  },
  {
   "cell_type": "markdown",
   "metadata": {},
   "source": [
    "Above shows the number of people showing the SRH_SCOREs as a percentage of the group total."
   ]
  },
  {
   "cell_type": "markdown",
   "metadata": {},
   "source": [
    "The below distributions of SRh scores of test subjects do not normal. There is high kurtosis. "
   ]
  },
  {
   "cell_type": "code",
   "execution_count": 156,
   "metadata": {},
   "outputs": [
    {
     "data": {
      "image/png": "[encoded data removed]",
      "text/plain": [
       "<Figure size 432x288 with 2 Axes>"
      ]
     },
     "metadata": {},
     "output_type": "display_data"
    }
   ],
   "source": [
    "#plot SRH_SCORE histogram for both treatmen and controled group\n",
    "sns.set() \n",
    "df.hist(by='trt',column = 'SRH_SCORE')\n",
    "plt.show()"
   ]
  },
  {
   "cell_type": "code",
   "execution_count": 157,
   "metadata": {},
   "outputs": [
    {
     "data": {
      "text/html": [
       "<div>\n",
       "<style scoped>\n",
       "    .dataframe tbody tr th:only-of-type {\n",
       "        vertical-align: middle;\n",
       "    }\n",
       "\n",
       "    .dataframe tbody tr th {\n",
       "        vertical-align: top;\n",
       "    }\n",
       "\n",
       "    .dataframe thead th {\n",
       "        text-align: right;\n",
       "    }\n",
       "</style>\n",
       "<table border=\"1\" class=\"dataframe\">\n",
       "  <thead>\n",
       "    <tr style=\"text-align: right;\">\n",
       "      <th></th>\n",
       "      <th>Weight_diff</th>\n",
       "    </tr>\n",
       "    <tr>\n",
       "      <th>trt</th>\n",
       "      <th></th>\n",
       "    </tr>\n",
       "  </thead>\n",
       "  <tbody>\n",
       "    <tr>\n",
       "      <th>0</th>\n",
       "      <td>1670</td>\n",
       "    </tr>\n",
       "    <tr>\n",
       "      <th>1</th>\n",
       "      <td>2062</td>\n",
       "    </tr>\n",
       "  </tbody>\n",
       "</table>\n",
       "</div>"
      ],
      "text/plain": [
       "     Weight_diff\n",
       "trt             \n",
       "0           1670\n",
       "1           2062"
      ]
     },
     "execution_count": 157,
     "metadata": {},
     "output_type": "execute_result"
    }
   ],
   "source": [
    "df[df.Weight_diff < 0].groupby('trt').count()[['Weight_diff']]"
   ]
  },
  {
   "cell_type": "code",
   "execution_count": 158,
   "metadata": {},
   "outputs": [
    {
     "data": {
      "text/html": [
       "<div>\n",
       "<style scoped>\n",
       "    .dataframe tbody tr th:only-of-type {\n",
       "        vertical-align: middle;\n",
       "    }\n",
       "\n",
       "    .dataframe tbody tr th {\n",
       "        vertical-align: top;\n",
       "    }\n",
       "\n",
       "    .dataframe thead th {\n",
       "        text-align: right;\n",
       "    }\n",
       "</style>\n",
       "<table border=\"1\" class=\"dataframe\">\n",
       "  <thead>\n",
       "    <tr style=\"text-align: right;\">\n",
       "      <th></th>\n",
       "      <th>Weight_diff</th>\n",
       "    </tr>\n",
       "    <tr>\n",
       "      <th>trt</th>\n",
       "      <th></th>\n",
       "    </tr>\n",
       "  </thead>\n",
       "  <tbody>\n",
       "    <tr>\n",
       "      <th>0</th>\n",
       "      <td>830</td>\n",
       "    </tr>\n",
       "    <tr>\n",
       "      <th>1</th>\n",
       "      <td>438</td>\n",
       "    </tr>\n",
       "  </tbody>\n",
       "</table>\n",
       "</div>"
      ],
      "text/plain": [
       "     Weight_diff\n",
       "trt             \n",
       "0            830\n",
       "1            438"
      ]
     },
     "execution_count": 158,
     "metadata": {},
     "output_type": "execute_result"
    }
   ],
   "source": [
    "df1=df[df.Weight_diff > 0].groupby('trt').count()[['Weight_diff']]\n",
    "df1"
   ]
  },
  {
   "cell_type": "code",
   "execution_count": 159,
   "metadata": {
    "scrolled": true
   },
   "outputs": [
    {
     "data": {
      "text/html": [
       "<div>\n",
       "<style scoped>\n",
       "    .dataframe tbody tr th:only-of-type {\n",
       "        vertical-align: middle;\n",
       "    }\n",
       "\n",
       "    .dataframe tbody tr th {\n",
       "        vertical-align: top;\n",
       "    }\n",
       "\n",
       "    .dataframe thead th {\n",
       "        text-align: right;\n",
       "    }\n",
       "</style>\n",
       "<table border=\"1\" class=\"dataframe\">\n",
       "  <thead>\n",
       "    <tr style=\"text-align: right;\">\n",
       "      <th></th>\n",
       "      <th>Weight_diff</th>\n",
       "    </tr>\n",
       "    <tr>\n",
       "      <th>trt</th>\n",
       "      <th></th>\n",
       "    </tr>\n",
       "  </thead>\n",
       "  <tbody>\n",
       "  </tbody>\n",
       "</table>\n",
       "</div>"
      ],
      "text/plain": [
       "Empty DataFrame\n",
       "Columns: [Weight_diff]\n",
       "Index: []"
      ]
     },
     "execution_count": 159,
     "metadata": {},
     "output_type": "execute_result"
    }
   ],
   "source": [
    "df[df.Weight_diff == 0].groupby('trt').count()[['Weight_diff']]"
   ]
  },
  {
   "cell_type": "code",
   "execution_count": 160,
   "metadata": {
    "scrolled": false
   },
   "outputs": [
    {
     "data": {
      "image/png": "[encoded data removed]",
      "text/plain": [
       "<Figure size 432x288 with 1 Axes>"
      ]
     },
     "metadata": {},
     "output_type": "display_data"
    }
   ],
   "source": [
    "weight_gain = pd.DataFrame({'group':['trt', 'con'], 'weight_gain':[438, 830]})  # counts of subjects who gained weight\n",
    "ax = weight_gain.plot.bar(x = 'group', y = 'weight_gain', rot=0)\n",
    " \n",
    "# plot labels\n",
    "plt.title('Counts of subjects who gained weight')\n",
    "plt.xlabel('Groups')\n",
    "plt.ylabel('Number of subjects who gained weight')\n",
    "\n",
    "plt.show()"
   ]
  },
  {
   "cell_type": "code",
   "execution_count": 161,
   "metadata": {
    "scrolled": true
   },
   "outputs": [
    {
     "data": {
      "image/png": "[encoded data removed]",
      "text/plain": [
       "<Figure size 432x288 with 1 Axes>"
      ]
     },
     "metadata": {},
     "output_type": "display_data"
    }
   ],
   "source": [
    "weight_loss = pd.DataFrame({'group':['trt', 'con'], 'weight_loss':[2062, 1670]})   # counts of subjects who lost weight\n",
    "ax = weight_loss.plot.bar(x = 'group', y = 'weight_loss', rot=0)\n",
    "\n",
    "# labels for plot\n",
    "plt.title('Counts of subjects who lost weight')\n",
    "plt.xlabel('Groups')\n",
    "plt.ylabel('Number of subjects who lost weight')\n",
    "\n",
    "plt.show()"
   ]
  },
  {
   "cell_type": "code",
   "execution_count": 162,
   "metadata": {},
   "outputs": [
    {
     "data": {
      "text/plain": [
       "-0.21387314438702018"
      ]
     },
     "execution_count": 162,
     "metadata": {},
     "output_type": "execute_result"
    }
   ],
   "source": [
    "df['Weight_diff'].corr(df['SRH_SCORE'])  # correlation between the change in SRH and weights"
   ]
  },
  {
   "cell_type": "markdown",
   "metadata": {},
   "source": [
    "Negative correlation here is expected. This is because negative weight difference and positive change in SRH are associated with better health (or treatment effect). "
   ]
  },
  {
   "cell_type": "markdown",
   "metadata": {},
   "source": [
    "### Outliers wrt weight difference {-}"
   ]
  },
  {
   "cell_type": "code",
   "execution_count": 163,
   "metadata": {
    "scrolled": true
   },
   "outputs": [
    {
     "data": {
      "text/plain": [
       "<matplotlib.axes._subplots.AxesSubplot at 0x1a1a712710>"
      ]
     },
     "execution_count": 163,
     "metadata": {},
     "output_type": "execute_result"
    },
    {
     "data": {
      "image/png": "[encoded data removed]",
      "text/plain": [
       "<Figure size 432x288 with 1 Axes>"
      ]
     },
     "metadata": {},
     "output_type": "display_data"
    }
   ],
   "source": [
    "sns.boxplot(y = 'Weight_diff', x = 'trt', data = df, width = 0.50)"
   ]
  },
  {
   "cell_type": "markdown",
   "metadata": {},
   "source": [
    "Clearly, the treatment group has a lower median showing more weight loss. They are also showing a much wider spread. There are a few outliers on both the treatment group and the control group. Let's remove those by standard boxplot. "
   ]
  },
  {
   "cell_type": "code",
   "execution_count": 164,
   "metadata": {},
   "outputs": [
    {
     "name": "stdout",
     "output_type": "stream",
     "text": [
      "Q1              : -1.879 \n",
      "Q3              : 0.408 \n",
      "IQR             : 2.287 \n",
      "Lower Bound     : -5.309 \n",
      "Upper Bound     : 3.838\n"
     ]
    }
   ],
   "source": [
    "# find lower and upper bounds of standard boxplot for control group\n",
    "Q1_con, Q3_con = np.percentile(df.loc[df.trt == 0, 'Weight_diff'], [25, 75])\n",
    "IQR_con = Q3_con - Q1_con\n",
    "lower_bound_con = Q1_con - (1.5 * IQR_con) \n",
    "upper_bound_con = Q3_con + (1.5 * IQR_con) \n",
    "\n",
    "print(\"Q1              :\", round(Q1_con, 3), \n",
    "      \"\\nQ3              :\", round(Q3_con, 3), \n",
    "      \"\\nIQR             :\", round(IQR_con, 3), \n",
    "      \"\\nLower Bound     :\", round(lower_bound_con, 3), \n",
    "      \"\\nUpper Bound     :\", round(upper_bound_con, 3))"
   ]
  },
  {
   "cell_type": "code",
   "execution_count": 165,
   "metadata": {},
   "outputs": [
    {
     "name": "stdout",
     "output_type": "stream",
     "text": [
      "Q1              : -15.681 \n",
      "Q3              : -2.372 \n",
      "IQR             : 13.309 \n",
      "Lower Bound     : -35.645 \n",
      "Upper Bound     : 17.592\n"
     ]
    }
   ],
   "source": [
    "# find lower and upper bounds of standard boxplot for control group\n",
    "Q1_trt, Q3_trt = np.percentile(df.loc[df.trt == 1, 'Weight_diff'], [25, 75])\n",
    "IQR_trt = Q3_trt - Q1_trt\n",
    "lower_bound_trt = Q1_trt - (1.5 * IQR_trt) \n",
    "upper_bound_trt = Q3_trt + (1.5 * IQR_trt) \n",
    "\n",
    "print(\"Q1              :\", round(Q1_trt, 3), \n",
    "      \"\\nQ3              :\", round(Q3_trt, 3), \n",
    "      \"\\nIQR             :\", round(IQR_trt, 3), \n",
    "      \"\\nLower Bound     :\", round(lower_bound_trt, 3), \n",
    "      \"\\nUpper Bound     :\", round(upper_bound_trt, 3))"
   ]
  },
  {
   "cell_type": "markdown",
   "metadata": {},
   "source": [
    "The calculated values seem to match well with the boxplots plotted. Let's flag and remove these."
   ]
  },
  {
   "cell_type": "code",
   "execution_count": 166,
   "metadata": {},
   "outputs": [],
   "source": [
    "def flag_outliers(row, upper_bound, lower_bound):\n",
    "    index = df[df['Id'] == row.Id].index.values.astype(int)[0]  # find index\n",
    "    \n",
    "    # if weight outside of the bounds, flag as outlier\n",
    "    if ((row.Weight_diff > upper_bound) or (row.Weight_diff < lower_bound)):\n",
    "        df.at[index, 'outlier_flag'] = True\n",
    "\n",
    "    return None\n",
    "\n",
    "df['outlier_flag'] = False\n",
    "df[df.trt == 0].apply(flag_outliers, args = (upper_bound_con, lower_bound_con), axis = 1);    # apply to control\n",
    "df[df.trt == 1].apply(flag_outliers, args = (upper_bound_trt, lower_bound_trt), axis = 1);    # apply to treatment"
   ]
  },
  {
   "cell_type": "code",
   "execution_count": 167,
   "metadata": {},
   "outputs": [
    {
     "data": {
      "text/html": [
       "<div>\n",
       "<style scoped>\n",
       "    .dataframe tbody tr th:only-of-type {\n",
       "        vertical-align: middle;\n",
       "    }\n",
       "\n",
       "    .dataframe tbody tr th {\n",
       "        vertical-align: top;\n",
       "    }\n",
       "\n",
       "    .dataframe thead th {\n",
       "        text-align: right;\n",
       "    }\n",
       "</style>\n",
       "<table border=\"1\" class=\"dataframe\">\n",
       "  <thead>\n",
       "    <tr style=\"text-align: right;\">\n",
       "      <th></th>\n",
       "      <th>Id</th>\n",
       "      <th>Sex</th>\n",
       "      <th>Age</th>\n",
       "      <th>Race</th>\n",
       "      <th>trt</th>\n",
       "      <th>SRH_POST</th>\n",
       "      <th>SRH_PRE</th>\n",
       "      <th>PRE_WEIGHT</th>\n",
       "      <th>POST_WEIGHT</th>\n",
       "      <th>Weight_diff</th>\n",
       "      <th>SRH_SCORE</th>\n",
       "      <th>outlier_flag</th>\n",
       "    </tr>\n",
       "  </thead>\n",
       "  <tbody>\n",
       "    <tr>\n",
       "      <th>1810</th>\n",
       "      <td>1811</td>\n",
       "      <td>MALE</td>\n",
       "      <td>36.1</td>\n",
       "      <td>NA</td>\n",
       "      <td>1</td>\n",
       "      <td>4</td>\n",
       "      <td>4</td>\n",
       "      <td>165.5593</td>\n",
       "      <td>126.7581</td>\n",
       "      <td>-38.8012</td>\n",
       "      <td>0</td>\n",
       "      <td>True</td>\n",
       "    </tr>\n",
       "    <tr>\n",
       "      <th>2067</th>\n",
       "      <td>2068</td>\n",
       "      <td>FEMALE</td>\n",
       "      <td>25.5</td>\n",
       "      <td>White</td>\n",
       "      <td>1</td>\n",
       "      <td>5</td>\n",
       "      <td>5</td>\n",
       "      <td>181.3255</td>\n",
       "      <td>199.6734</td>\n",
       "      <td>18.3479</td>\n",
       "      <td>0</td>\n",
       "      <td>True</td>\n",
       "    </tr>\n",
       "    <tr>\n",
       "      <th>2591</th>\n",
       "      <td>2592</td>\n",
       "      <td>MALE</td>\n",
       "      <td>32.7</td>\n",
       "      <td>Hispanic</td>\n",
       "      <td>0</td>\n",
       "      <td>4</td>\n",
       "      <td>4</td>\n",
       "      <td>156.9004</td>\n",
       "      <td>151.2559</td>\n",
       "      <td>-5.6445</td>\n",
       "      <td>0</td>\n",
       "      <td>True</td>\n",
       "    </tr>\n",
       "    <tr>\n",
       "      <th>2851</th>\n",
       "      <td>2852</td>\n",
       "      <td>MALE</td>\n",
       "      <td>39.8</td>\n",
       "      <td>White</td>\n",
       "      <td>0</td>\n",
       "      <td>3</td>\n",
       "      <td>3</td>\n",
       "      <td>149.4094</td>\n",
       "      <td>143.9075</td>\n",
       "      <td>-5.5019</td>\n",
       "      <td>0</td>\n",
       "      <td>True</td>\n",
       "    </tr>\n",
       "    <tr>\n",
       "      <th>3628</th>\n",
       "      <td>3629</td>\n",
       "      <td>MALE</td>\n",
       "      <td>55.5</td>\n",
       "      <td>White</td>\n",
       "      <td>0</td>\n",
       "      <td>1</td>\n",
       "      <td>1</td>\n",
       "      <td>165.1667</td>\n",
       "      <td>159.7706</td>\n",
       "      <td>-5.3961</td>\n",
       "      <td>0</td>\n",
       "      <td>True</td>\n",
       "    </tr>\n",
       "    <tr>\n",
       "      <th>3798</th>\n",
       "      <td>3799</td>\n",
       "      <td>MALE</td>\n",
       "      <td>42</td>\n",
       "      <td>NA</td>\n",
       "      <td>0</td>\n",
       "      <td>1</td>\n",
       "      <td>1</td>\n",
       "      <td>156.5676</td>\n",
       "      <td>150.7558</td>\n",
       "      <td>-5.8118</td>\n",
       "      <td>0</td>\n",
       "      <td>True</td>\n",
       "    </tr>\n",
       "    <tr>\n",
       "      <th>4716</th>\n",
       "      <td>4717</td>\n",
       "      <td>MALE</td>\n",
       "      <td>38.3</td>\n",
       "      <td>Black</td>\n",
       "      <td>0</td>\n",
       "      <td>3</td>\n",
       "      <td>2</td>\n",
       "      <td>178.2512</td>\n",
       "      <td>172.5387</td>\n",
       "      <td>-5.7125</td>\n",
       "      <td>1</td>\n",
       "      <td>True</td>\n",
       "    </tr>\n",
       "    <tr>\n",
       "      <th>4746</th>\n",
       "      <td>4747</td>\n",
       "      <td>MALE</td>\n",
       "      <td>53.7</td>\n",
       "      <td>White</td>\n",
       "      <td>0</td>\n",
       "      <td>1</td>\n",
       "      <td>1</td>\n",
       "      <td>162.0296</td>\n",
       "      <td>156.6575</td>\n",
       "      <td>-5.3721</td>\n",
       "      <td>0</td>\n",
       "      <td>True</td>\n",
       "    </tr>\n",
       "    <tr>\n",
       "      <th>4748</th>\n",
       "      <td>4749</td>\n",
       "      <td>FEMALE</td>\n",
       "      <td>56</td>\n",
       "      <td>Hispanic</td>\n",
       "      <td>0</td>\n",
       "      <td>1</td>\n",
       "      <td>1</td>\n",
       "      <td>152.1057</td>\n",
       "      <td>156.9378</td>\n",
       "      <td>4.8321</td>\n",
       "      <td>0</td>\n",
       "      <td>True</td>\n",
       "    </tr>\n",
       "    <tr>\n",
       "      <th>4839</th>\n",
       "      <td>4840</td>\n",
       "      <td>MALE</td>\n",
       "      <td>31.3</td>\n",
       "      <td>White</td>\n",
       "      <td>0</td>\n",
       "      <td>5</td>\n",
       "      <td>5</td>\n",
       "      <td>197.9854</td>\n",
       "      <td>191.8694</td>\n",
       "      <td>-6.1160</td>\n",
       "      <td>0</td>\n",
       "      <td>True</td>\n",
       "    </tr>\n",
       "    <tr>\n",
       "      <th>4886</th>\n",
       "      <td>4887</td>\n",
       "      <td>MALE</td>\n",
       "      <td>38.7</td>\n",
       "      <td>Black</td>\n",
       "      <td>0</td>\n",
       "      <td>2</td>\n",
       "      <td>2</td>\n",
       "      <td>176.0440</td>\n",
       "      <td>170.6340</td>\n",
       "      <td>-5.4100</td>\n",
       "      <td>0</td>\n",
       "      <td>True</td>\n",
       "    </tr>\n",
       "    <tr>\n",
       "      <th>4891</th>\n",
       "      <td>4892</td>\n",
       "      <td>MALE</td>\n",
       "      <td>54.1</td>\n",
       "      <td>Black</td>\n",
       "      <td>0</td>\n",
       "      <td>1</td>\n",
       "      <td>2</td>\n",
       "      <td>208.7359</td>\n",
       "      <td>203.2564</td>\n",
       "      <td>-5.4795</td>\n",
       "      <td>-1</td>\n",
       "      <td>True</td>\n",
       "    </tr>\n",
       "  </tbody>\n",
       "</table>\n",
       "</div>"
      ],
      "text/plain": [
       "        Id     Sex   Age      Race  trt  SRH_POST  SRH_PRE  PRE_WEIGHT  \\\n",
       "1810  1811    MALE  36.1        NA    1         4        4    165.5593   \n",
       "2067  2068  FEMALE  25.5     White    1         5        5    181.3255   \n",
       "2591  2592    MALE  32.7  Hispanic    0         4        4    156.9004   \n",
       "2851  2852    MALE  39.8     White    0         3        3    149.4094   \n",
       "3628  3629    MALE  55.5     White    0         1        1    165.1667   \n",
       "3798  3799    MALE    42        NA    0         1        1    156.5676   \n",
       "4716  4717    MALE  38.3     Black    0         3        2    178.2512   \n",
       "4746  4747    MALE  53.7     White    0         1        1    162.0296   \n",
       "4748  4749  FEMALE    56  Hispanic    0         1        1    152.1057   \n",
       "4839  4840    MALE  31.3     White    0         5        5    197.9854   \n",
       "4886  4887    MALE  38.7     Black    0         2        2    176.0440   \n",
       "4891  4892    MALE  54.1     Black    0         1        2    208.7359   \n",
       "\n",
       "      POST_WEIGHT  Weight_diff  SRH_SCORE  outlier_flag  \n",
       "1810     126.7581     -38.8012          0          True  \n",
       "2067     199.6734      18.3479          0          True  \n",
       "2591     151.2559      -5.6445          0          True  \n",
       "2851     143.9075      -5.5019          0          True  \n",
       "3628     159.7706      -5.3961          0          True  \n",
       "3798     150.7558      -5.8118          0          True  \n",
       "4716     172.5387      -5.7125          1          True  \n",
       "4746     156.6575      -5.3721          0          True  \n",
       "4748     156.9378       4.8321          0          True  \n",
       "4839     191.8694      -6.1160          0          True  \n",
       "4886     170.6340      -5.4100          0          True  \n",
       "4891     203.2564      -5.4795         -1          True  "
      ]
     },
     "execution_count": 167,
     "metadata": {},
     "output_type": "execute_result"
    }
   ],
   "source": [
    "df[df.outlier_flag]    # list all outliers"
   ]
  },
  {
   "cell_type": "code",
   "execution_count": 168,
   "metadata": {},
   "outputs": [
    {
     "data": {
      "text/plain": [
       "4988"
      ]
     },
     "execution_count": 168,
     "metadata": {},
     "output_type": "execute_result"
    }
   ],
   "source": [
    "# deleting the outliers\n",
    "df = df.drop(df[df.outlier_flag == True].index)\n",
    "\n",
    "df.drop(['outlier_flag'], axis = 1, inplace = True)\n",
    "\n",
    "len(df)    # 12 outliers dropped - 4988 expected"
   ]
  },
  {
   "cell_type": "markdown",
   "metadata": {},
   "source": [
    "### Outliers wrt SRH difference {-}"
   ]
  },
  {
   "cell_type": "code",
   "execution_count": 169,
   "metadata": {
    "scrolled": true
   },
   "outputs": [
    {
     "data": {
      "text/plain": [
       "<matplotlib.axes._subplots.AxesSubplot at 0x1a1a342828>"
      ]
     },
     "execution_count": 169,
     "metadata": {},
     "output_type": "execute_result"
    },
    {
     "data": {
      "image/png": "[encoded data removed]",
      "text/plain": [
       "<Figure size 432x288 with 1 Axes>"
      ]
     },
     "metadata": {},
     "output_type": "display_data"
    }
   ],
   "source": [
    "sns.boxplot(y = 'SRH_SCORE', x = 'trt', data = df, width = 0.50)"
   ]
  },
  {
   "cell_type": "markdown",
   "metadata": {},
   "source": [
    "There are few outliers. But, since this is a categorical variable, it does not make much sense to delete these. "
   ]
  },
  {
   "cell_type": "markdown",
   "metadata": {},
   "source": [
    "### Hypothesis testing : Checking if Means of Weight Differences are Equal {-}"
   ]
  },
  {
   "cell_type": "markdown",
   "metadata": {},
   "source": [
    "#### First method {-}"
   ]
  },
  {
   "cell_type": "code",
   "execution_count": 170,
   "metadata": {},
   "outputs": [],
   "source": [
    "weight_diff_trt = df.loc[df.trt == 1, 'Weight_diff']    # weight diff of treatment group\n",
    "weight_diff_con = df.loc[df.trt == 0, 'Weight_diff']    # weight diff of control group"
   ]
  },
  {
   "cell_type": "code",
   "execution_count": 171,
   "metadata": {
    "scrolled": true
   },
   "outputs": [
    {
     "data": {
      "text/plain": [
       "(array([ 13.,  98., 198., 441., 492., 472., 422., 252.,  98.,  12.]),\n",
       " array([-34.4885 , -29.42775, -24.367  , -19.30625, -14.2455 ,  -9.18475,\n",
       "         -4.124  ,   0.93675,   5.9975 ,  11.05825,  16.119  ]),\n",
       " <a list of 10 Patch objects>)"
      ]
     },
     "execution_count": 171,
     "metadata": {},
     "output_type": "execute_result"
    },
    {
     "data": {
      "image/png": "[encoded data removed]",
      "text/plain": [
       "<Figure size 432x288 with 1 Axes>"
      ]
     },
     "metadata": {},
     "output_type": "display_data"
    }
   ],
   "source": [
    "plt.hist(weight_diff_trt)"
   ]
  },
  {
   "cell_type": "code",
   "execution_count": 172,
   "metadata": {},
   "outputs": [
    {
     "data": {
      "text/plain": [
       "(array([ 35.,  89., 232., 364., 526., 488., 409., 228.,  87.,  32.]),\n",
       " array([-5.2572 , -4.35884, -3.46048, -2.56212, -1.66376, -0.7654 ,\n",
       "         0.13296,  1.03132,  1.92968,  2.82804,  3.7264 ]),\n",
       " <a list of 10 Patch objects>)"
      ]
     },
     "execution_count": 172,
     "metadata": {},
     "output_type": "execute_result"
    },
    {
     "data": {
      "image/png": "[encoded data removed]",
      "text/plain": [
       "<Figure size 432x288 with 1 Axes>"
      ]
     },
     "metadata": {},
     "output_type": "display_data"
    }
   ],
   "source": [
    "plt.hist(weight_diff_con)"
   ]
  },
  {
   "cell_type": "code",
   "execution_count": 173,
   "metadata": {},
   "outputs": [
    {
     "data": {
      "text/plain": [
       "BartlettResult(statistic=5168.372554037757, pvalue=0.0)"
      ]
     },
     "execution_count": 173,
     "metadata": {},
     "output_type": "execute_result"
    }
   ],
   "source": [
    "stats.bartlett(weight_diff_trt, weight_diff_con)    # checking equality of variance - normal - bartlett used"
   ]
  },
  {
   "cell_type": "markdown",
   "metadata": {},
   "source": [
    "The null of equal variances are rejected. The variances are unequal. Therefore, we cannot use standard t-test. Welch's t-test being used."
   ]
  },
  {
   "cell_type": "code",
   "execution_count": 174,
   "metadata": {},
   "outputs": [
    {
     "data": {
      "text/plain": [
       "Ttest_indResult(statistic=-45.394268586115, pvalue=0.0)"
      ]
     },
     "execution_count": 174,
     "metadata": {},
     "output_type": "execute_result"
    }
   ],
   "source": [
    "stats.ttest_ind(weight_diff_trt, weight_diff_con, equal_var = False)   # equal_var = False makes it Welch's t-test"
   ]
  },
  {
   "cell_type": "markdown",
   "metadata": {},
   "source": [
    "The null of equal means is rejected. Therefore, the means of weight differences are unequal."
   ]
  },
  {
   "cell_type": "markdown",
   "metadata": {},
   "source": [
    "#### Second Method {-}\n",
    "Another approach that can be used is to check if the means of the weights of the same people before and after the treatment are similar or not. This can be done using paired-sample t-tests. This has to be repeated for both control group and treatment group."
   ]
  },
  {
   "cell_type": "code",
   "execution_count": 175,
   "metadata": {},
   "outputs": [
    {
     "data": {
      "text/html": [
       "<div>\n",
       "<style scoped>\n",
       "    .dataframe tbody tr th:only-of-type {\n",
       "        vertical-align: middle;\n",
       "    }\n",
       "\n",
       "    .dataframe tbody tr th {\n",
       "        vertical-align: top;\n",
       "    }\n",
       "\n",
       "    .dataframe thead th {\n",
       "        text-align: right;\n",
       "    }\n",
       "</style>\n",
       "<table border=\"1\" class=\"dataframe\">\n",
       "  <thead>\n",
       "    <tr style=\"text-align: right;\">\n",
       "      <th></th>\n",
       "      <th>Id</th>\n",
       "      <th>Sex</th>\n",
       "      <th>Age</th>\n",
       "      <th>Race</th>\n",
       "      <th>trt</th>\n",
       "      <th>SRH_POST</th>\n",
       "      <th>SRH_PRE</th>\n",
       "      <th>PRE_WEIGHT</th>\n",
       "      <th>POST_WEIGHT</th>\n",
       "      <th>Weight_diff</th>\n",
       "      <th>SRH_SCORE</th>\n",
       "    </tr>\n",
       "  </thead>\n",
       "  <tbody>\n",
       "    <tr>\n",
       "      <th>0</th>\n",
       "      <td>1</td>\n",
       "      <td>MALE</td>\n",
       "      <td>41.2</td>\n",
       "      <td>White</td>\n",
       "      <td>1</td>\n",
       "      <td>2</td>\n",
       "      <td>4</td>\n",
       "      <td>135.2510</td>\n",
       "      <td>125.6678</td>\n",
       "      <td>-9.5832</td>\n",
       "      <td>-2</td>\n",
       "    </tr>\n",
       "    <tr>\n",
       "      <th>1</th>\n",
       "      <td>2</td>\n",
       "      <td>FEMALE</td>\n",
       "      <td>42.9</td>\n",
       "      <td>White</td>\n",
       "      <td>1</td>\n",
       "      <td>1</td>\n",
       "      <td>2</td>\n",
       "      <td>154.8713</td>\n",
       "      <td>153.9882</td>\n",
       "      <td>-0.8831</td>\n",
       "      <td>-1</td>\n",
       "    </tr>\n",
       "    <tr>\n",
       "      <th>2</th>\n",
       "      <td>3</td>\n",
       "      <td>FEMALE</td>\n",
       "      <td>38.5</td>\n",
       "      <td>White</td>\n",
       "      <td>1</td>\n",
       "      <td>4</td>\n",
       "      <td>3</td>\n",
       "      <td>128.1951</td>\n",
       "      <td>115.5969</td>\n",
       "      <td>-12.5982</td>\n",
       "      <td>1</td>\n",
       "    </tr>\n",
       "    <tr>\n",
       "      <th>3</th>\n",
       "      <td>4</td>\n",
       "      <td>FEMALE</td>\n",
       "      <td>35.6</td>\n",
       "      <td>Hispanic</td>\n",
       "      <td>1</td>\n",
       "      <td>4</td>\n",
       "      <td>2</td>\n",
       "      <td>183.4600</td>\n",
       "      <td>177.0187</td>\n",
       "      <td>-6.4413</td>\n",
       "      <td>2</td>\n",
       "    </tr>\n",
       "    <tr>\n",
       "      <th>4</th>\n",
       "      <td>5</td>\n",
       "      <td>FEMALE</td>\n",
       "      <td>48.5</td>\n",
       "      <td>White</td>\n",
       "      <td>1</td>\n",
       "      <td>2</td>\n",
       "      <td>2</td>\n",
       "      <td>166.3726</td>\n",
       "      <td>163.9262</td>\n",
       "      <td>-2.4464</td>\n",
       "      <td>0</td>\n",
       "    </tr>\n",
       "  </tbody>\n",
       "</table>\n",
       "</div>"
      ],
      "text/plain": [
       "   Id     Sex   Age      Race  trt  SRH_POST  SRH_PRE  PRE_WEIGHT  \\\n",
       "0   1    MALE  41.2     White    1         2        4    135.2510   \n",
       "1   2  FEMALE  42.9     White    1         1        2    154.8713   \n",
       "2   3  FEMALE  38.5     White    1         4        3    128.1951   \n",
       "3   4  FEMALE  35.6  Hispanic    1         4        2    183.4600   \n",
       "4   5  FEMALE  48.5     White    1         2        2    166.3726   \n",
       "\n",
       "   POST_WEIGHT  Weight_diff  SRH_SCORE  \n",
       "0     125.6678      -9.5832         -2  \n",
       "1     153.9882      -0.8831         -1  \n",
       "2     115.5969     -12.5982          1  \n",
       "3     177.0187      -6.4413          2  \n",
       "4     163.9262      -2.4464          0  "
      ]
     },
     "execution_count": 175,
     "metadata": {},
     "output_type": "execute_result"
    }
   ],
   "source": [
    "df.head()"
   ]
  },
  {
   "cell_type": "code",
   "execution_count": 176,
   "metadata": {},
   "outputs": [],
   "source": [
    "trt_before_weight = df.loc[df.trt == 1, 'PRE_WEIGHT']   # before weights for treatment group\n",
    "trt_after_weight = df.loc[df.trt == 1, 'POST_WEIGHT']   # after weights for treatment group\n",
    "\n",
    "con_before_weight = df.loc[df.trt == 0, 'PRE_WEIGHT']   # before weights for control group\n",
    "con_after_weight = df.loc[df.trt == 0, 'POST_WEIGHT']   # after weights for control group"
   ]
  },
  {
   "cell_type": "code",
   "execution_count": 177,
   "metadata": {},
   "outputs": [
    {
     "data": {
      "text/plain": [
       "(array([  5.,  35., 179., 494., 697., 617., 317., 123.,  29.,   2.]),\n",
       " array([ 82.80379 ,  98.799731, 114.795672, 130.791613, 146.787554,\n",
       "        162.783495, 178.779436, 194.775377, 210.771318, 226.767259,\n",
       "        242.7632  ]),\n",
       " <a list of 10 Patch objects>)"
      ]
     },
     "execution_count": 177,
     "metadata": {},
     "output_type": "execute_result"
    },
    {
     "data": {
      "image/png": "[encoded data removed]",
      "text/plain": [
       "<Figure size 432x288 with 1 Axes>"
      ]
     },
     "metadata": {},
     "output_type": "display_data"
    }
   ],
   "source": [
    "plt.hist(trt_before_weight)"
   ]
  },
  {
   "cell_type": "code",
   "execution_count": 178,
   "metadata": {
    "scrolled": false
   },
   "outputs": [
    {
     "data": {
      "text/plain": [
       "(array([  4.,  39., 165., 391., 599., 637., 409., 192.,  46.,  16.]),\n",
       " array([ 78.09087 ,  92.411453, 106.732036, 121.052619, 135.373202,\n",
       "        149.693785, 164.014368, 178.334951, 192.655534, 206.976117,\n",
       "        221.2967  ]),\n",
       " <a list of 10 Patch objects>)"
      ]
     },
     "execution_count": 178,
     "metadata": {},
     "output_type": "execute_result"
    },
    {
     "data": {
      "image/png": "[encoded data removed]",
      "text/plain": [
       "<Figure size 432x288 with 1 Axes>"
      ]
     },
     "metadata": {},
     "output_type": "display_data"
    }
   ],
   "source": [
    "plt.hist(trt_after_weight)"
   ]
  },
  {
   "cell_type": "markdown",
   "metadata": {},
   "source": [
    "All the above seems reasonably normal. We can use paired t-test."
   ]
  },
  {
   "cell_type": "code",
   "execution_count": 179,
   "metadata": {
    "scrolled": true
   },
   "outputs": [
    {
     "data": {
      "text/plain": [
       "Ttest_relResult(statistic=50.39316529644663, pvalue=0.0)"
      ]
     },
     "execution_count": 179,
     "metadata": {},
     "output_type": "execute_result"
    }
   ],
   "source": [
    "stats.ttest_rel(trt_before_weight, trt_after_weight)           # t-test to compare the means of two distributions"
   ]
  },
  {
   "cell_type": "markdown",
   "metadata": {},
   "source": [
    "The null of no difference between the means of weight before and after the treatment is rejected for the treatment group. Therefore, we have an improvement after the treatment. <br><br>\n",
    "Let us also check the same for control group."
   ]
  },
  {
   "cell_type": "code",
   "execution_count": 180,
   "metadata": {},
   "outputs": [
    {
     "data": {
      "text/plain": [
       "(array([  8.,  58., 207., 455., 648., 556., 356., 144.,  50.,   8.]),\n",
       " array([ 91.23792 , 105.384208, 119.530496, 133.676784, 147.823072,\n",
       "        161.96936 , 176.115648, 190.261936, 204.408224, 218.554512,\n",
       "        232.7008  ]),\n",
       " <a list of 10 Patch objects>)"
      ]
     },
     "execution_count": 180,
     "metadata": {},
     "output_type": "execute_result"
    },
    {
     "data": {
      "image/png": "[encoded data removed]",
      "text/plain": [
       "<Figure size 432x288 with 1 Axes>"
      ]
     },
     "metadata": {},
     "output_type": "display_data"
    }
   ],
   "source": [
    "plt.hist(con_before_weight)"
   ]
  },
  {
   "cell_type": "code",
   "execution_count": 181,
   "metadata": {},
   "outputs": [
    {
     "data": {
      "text/plain": [
       "(array([  7.,  50., 187., 413., 645., 573., 386., 168.,  50.,  11.]),\n",
       " array([ 90.15613 , 104.067987, 117.979844, 131.891701, 145.803558,\n",
       "        159.715415, 173.627272, 187.539129, 201.450986, 215.362843,\n",
       "        229.2747  ]),\n",
       " <a list of 10 Patch objects>)"
      ]
     },
     "execution_count": 181,
     "metadata": {},
     "output_type": "execute_result"
    },
    {
     "data": {
      "image/png": "[encoded data removed]",
      "text/plain": [
       "<Figure size 432x288 with 1 Axes>"
      ]
     },
     "metadata": {},
     "output_type": "display_data"
    }
   ],
   "source": [
    "plt.hist(con_after_weight)"
   ]
  },
  {
   "cell_type": "code",
   "execution_count": 182,
   "metadata": {
    "scrolled": true
   },
   "outputs": [
    {
     "data": {
      "text/plain": [
       "Ttest_relResult(statistic=23.144976002654452, pvalue=1.6773248888145785e-107)"
      ]
     },
     "execution_count": 182,
     "metadata": {},
     "output_type": "execute_result"
    }
   ],
   "source": [
    "stats.ttest_rel(con_before_weight, con_after_weight)"
   ]
  },
  {
   "cell_type": "markdown",
   "metadata": {},
   "source": [
    "The second method shows that there is significant difference between the before weight and after weight of the control group also. But, note that the test statistic is much smaller here than for the treatment group. "
   ]
  },
  {
   "cell_type": "markdown",
   "metadata": {},
   "source": [
    "#### Conclusion {-}"
   ]
  },
  {
   "cell_type": "code",
   "execution_count": 183,
   "metadata": {},
   "outputs": [
    {
     "name": "stdout",
     "output_type": "stream",
     "text": [
      "-9.001413294635709 -0.7578227951807225\n"
     ]
    }
   ],
   "source": [
    "mean_wt_trt = np.mean(weight_diff_trt)\n",
    "mean_wt_con = np.mean(weight_diff_con)\n",
    "\n",
    "print(mean_wt_trt, mean_wt_con)"
   ]
  },
  {
   "cell_type": "markdown",
   "metadata": {},
   "source": [
    "The mean difference in weight for the treatment group is lower that the mean difference for control group. This means that the treatment makes a statistically significant difference in weight loss of individuals."
   ]
  },
  {
   "cell_type": "markdown",
   "metadata": {},
   "source": [
    "### Hypothesis testing : Checking if Means of SRH Differences are Equal {-}"
   ]
  },
  {
   "cell_type": "markdown",
   "metadata": {},
   "source": [
    "#### First method {-}"
   ]
  },
  {
   "cell_type": "code",
   "execution_count": 184,
   "metadata": {},
   "outputs": [],
   "source": [
    "srh_diff_trt = df.loc[df.trt == 1, 'SRH_SCORE']\n",
    "srh_diff_con = df.loc[df.trt == 0, 'SRH_SCORE']"
   ]
  },
  {
   "cell_type": "code",
   "execution_count": 185,
   "metadata": {},
   "outputs": [
    {
     "data": {
      "text/plain": [
       "(array([1.000e+00, 3.000e+01, 6.100e+01, 1.910e+02, 0.000e+00, 1.309e+03,\n",
       "        3.350e+02, 4.140e+02, 1.410e+02, 1.600e+01]),\n",
       " array([-4. , -3.2, -2.4, -1.6, -0.8,  0. ,  0.8,  1.6,  2.4,  3.2,  4. ]),\n",
       " <a list of 10 Patch objects>)"
      ]
     },
     "execution_count": 185,
     "metadata": {},
     "output_type": "execute_result"
    },
    {
     "data": {
      "image/png": "[encoded data removed]",
      "text/plain": [
       "<Figure size 432x288 with 1 Axes>"
      ]
     },
     "metadata": {},
     "output_type": "display_data"
    }
   ],
   "source": [
    "plt.hist(srh_diff_trt)"
   ]
  },
  {
   "cell_type": "code",
   "execution_count": 186,
   "metadata": {},
   "outputs": [
    {
     "data": {
      "text/plain": [
       "(array([   6.,   51.,  178.,  292.,    0., 1449.,  276.,  147.,   83.,\n",
       "           8.]),\n",
       " array([-4. , -3.2, -2.4, -1.6, -0.8,  0. ,  0.8,  1.6,  2.4,  3.2,  4. ]),\n",
       " <a list of 10 Patch objects>)"
      ]
     },
     "execution_count": 186,
     "metadata": {},
     "output_type": "execute_result"
    },
    {
     "data": {
      "image/png": "[encoded data removed]",
      "text/plain": [
       "<Figure size 432x288 with 1 Axes>"
      ]
     },
     "metadata": {},
     "output_type": "display_data"
    }
   ],
   "source": [
    "plt.hist(srh_diff_con)"
   ]
  },
  {
   "cell_type": "code",
   "execution_count": 187,
   "metadata": {},
   "outputs": [
    {
     "data": {
      "text/plain": [
       "LeveneResult(statistic=29.827567975932865, pvalue=4.9513928482097794e-08)"
      ]
     },
     "execution_count": 187,
     "metadata": {},
     "output_type": "execute_result"
    }
   ],
   "source": [
    "stats.levene(srh_diff_trt, srh_diff_con)        # checking equality of variance - not normal - levene used"
   ]
  },
  {
   "cell_type": "markdown",
   "metadata": {},
   "source": [
    "The null of equal variances are rejected. The variances are unequal. Therefore, we cannot use standard t-test. Welch's t-test being used."
   ]
  },
  {
   "cell_type": "code",
   "execution_count": 188,
   "metadata": {},
   "outputs": [
    {
     "data": {
      "text/plain": [
       "Ttest_indResult(statistic=14.607440268037356, pvalue=2.3758005555257883e-47)"
      ]
     },
     "execution_count": 188,
     "metadata": {},
     "output_type": "execute_result"
    }
   ],
   "source": [
    "stats.ttest_ind(srh_diff_trt, srh_diff_con, equal_var = False)   # equal_var = False makes it Welch's t-test"
   ]
  },
  {
   "cell_type": "markdown",
   "metadata": {},
   "source": [
    "The null of equal means is rejected. Therefore, the means of weight differences are unequal."
   ]
  },
  {
   "cell_type": "markdown",
   "metadata": {},
   "source": [
    "#### Second method {-}\n",
    "In this second method, we first make a column which is true if the subject reported an improvement in their health but is false if they reported no difference or a deterioration in health. We make a cross tab of that against treatment to get a contingency table. A chi square test of independence is then conducted on this table to find if there is some dependence between whether the subject got treatment and whether they reported improvement in health."
   ]
  },
  {
   "cell_type": "code",
   "execution_count": 189,
   "metadata": {},
   "outputs": [
    {
     "data": {
      "text/html": [
       "<div>\n",
       "<style scoped>\n",
       "    .dataframe tbody tr th:only-of-type {\n",
       "        vertical-align: middle;\n",
       "    }\n",
       "\n",
       "    .dataframe tbody tr th {\n",
       "        vertical-align: top;\n",
       "    }\n",
       "\n",
       "    .dataframe thead th {\n",
       "        text-align: right;\n",
       "    }\n",
       "</style>\n",
       "<table border=\"1\" class=\"dataframe\">\n",
       "  <thead>\n",
       "    <tr style=\"text-align: right;\">\n",
       "      <th></th>\n",
       "      <th>Id</th>\n",
       "      <th>Sex</th>\n",
       "      <th>Age</th>\n",
       "      <th>Race</th>\n",
       "      <th>trt</th>\n",
       "      <th>SRH_POST</th>\n",
       "      <th>SRH_PRE</th>\n",
       "      <th>PRE_WEIGHT</th>\n",
       "      <th>POST_WEIGHT</th>\n",
       "      <th>Weight_diff</th>\n",
       "      <th>SRH_SCORE</th>\n",
       "      <th>SRH_improve</th>\n",
       "    </tr>\n",
       "  </thead>\n",
       "  <tbody>\n",
       "    <tr>\n",
       "      <th>0</th>\n",
       "      <td>1</td>\n",
       "      <td>MALE</td>\n",
       "      <td>41.2</td>\n",
       "      <td>White</td>\n",
       "      <td>1</td>\n",
       "      <td>2</td>\n",
       "      <td>4</td>\n",
       "      <td>135.2510</td>\n",
       "      <td>125.6678</td>\n",
       "      <td>-9.5832</td>\n",
       "      <td>-2</td>\n",
       "      <td>False</td>\n",
       "    </tr>\n",
       "    <tr>\n",
       "      <th>1</th>\n",
       "      <td>2</td>\n",
       "      <td>FEMALE</td>\n",
       "      <td>42.9</td>\n",
       "      <td>White</td>\n",
       "      <td>1</td>\n",
       "      <td>1</td>\n",
       "      <td>2</td>\n",
       "      <td>154.8713</td>\n",
       "      <td>153.9882</td>\n",
       "      <td>-0.8831</td>\n",
       "      <td>-1</td>\n",
       "      <td>False</td>\n",
       "    </tr>\n",
       "    <tr>\n",
       "      <th>2</th>\n",
       "      <td>3</td>\n",
       "      <td>FEMALE</td>\n",
       "      <td>38.5</td>\n",
       "      <td>White</td>\n",
       "      <td>1</td>\n",
       "      <td>4</td>\n",
       "      <td>3</td>\n",
       "      <td>128.1951</td>\n",
       "      <td>115.5969</td>\n",
       "      <td>-12.5982</td>\n",
       "      <td>1</td>\n",
       "      <td>True</td>\n",
       "    </tr>\n",
       "    <tr>\n",
       "      <th>3</th>\n",
       "      <td>4</td>\n",
       "      <td>FEMALE</td>\n",
       "      <td>35.6</td>\n",
       "      <td>Hispanic</td>\n",
       "      <td>1</td>\n",
       "      <td>4</td>\n",
       "      <td>2</td>\n",
       "      <td>183.4600</td>\n",
       "      <td>177.0187</td>\n",
       "      <td>-6.4413</td>\n",
       "      <td>2</td>\n",
       "      <td>True</td>\n",
       "    </tr>\n",
       "    <tr>\n",
       "      <th>4</th>\n",
       "      <td>5</td>\n",
       "      <td>FEMALE</td>\n",
       "      <td>48.5</td>\n",
       "      <td>White</td>\n",
       "      <td>1</td>\n",
       "      <td>2</td>\n",
       "      <td>2</td>\n",
       "      <td>166.3726</td>\n",
       "      <td>163.9262</td>\n",
       "      <td>-2.4464</td>\n",
       "      <td>0</td>\n",
       "      <td>False</td>\n",
       "    </tr>\n",
       "  </tbody>\n",
       "</table>\n",
       "</div>"
      ],
      "text/plain": [
       "   Id     Sex   Age      Race  trt  SRH_POST  SRH_PRE  PRE_WEIGHT  \\\n",
       "0   1    MALE  41.2     White    1         2        4    135.2510   \n",
       "1   2  FEMALE  42.9     White    1         1        2    154.8713   \n",
       "2   3  FEMALE  38.5     White    1         4        3    128.1951   \n",
       "3   4  FEMALE  35.6  Hispanic    1         4        2    183.4600   \n",
       "4   5  FEMALE  48.5     White    1         2        2    166.3726   \n",
       "\n",
       "   POST_WEIGHT  Weight_diff  SRH_SCORE  SRH_improve  \n",
       "0     125.6678      -9.5832         -2        False  \n",
       "1     153.9882      -0.8831         -1        False  \n",
       "2     115.5969     -12.5982          1         True  \n",
       "3     177.0187      -6.4413          2         True  \n",
       "4     163.9262      -2.4464          0        False  "
      ]
     },
     "execution_count": 189,
     "metadata": {},
     "output_type": "execute_result"
    }
   ],
   "source": [
    "df['SRH_improve'] = (df['SRH_SCORE'] > 0)     # new column - true if improvement; false otherwise\n",
    "df.head()"
   ]
  },
  {
   "cell_type": "code",
   "execution_count": 190,
   "metadata": {},
   "outputs": [
    {
     "data": {
      "text/html": [
       "<div>\n",
       "<style scoped>\n",
       "    .dataframe tbody tr th:only-of-type {\n",
       "        vertical-align: middle;\n",
       "    }\n",
       "\n",
       "    .dataframe tbody tr th {\n",
       "        vertical-align: top;\n",
       "    }\n",
       "\n",
       "    .dataframe thead th {\n",
       "        text-align: right;\n",
       "    }\n",
       "</style>\n",
       "<table border=\"1\" class=\"dataframe\">\n",
       "  <thead>\n",
       "    <tr style=\"text-align: right;\">\n",
       "      <th>SRH_improve</th>\n",
       "      <th>False</th>\n",
       "      <th>True</th>\n",
       "    </tr>\n",
       "    <tr>\n",
       "      <th>trt</th>\n",
       "      <th></th>\n",
       "      <th></th>\n",
       "    </tr>\n",
       "  </thead>\n",
       "  <tbody>\n",
       "    <tr>\n",
       "      <th>0</th>\n",
       "      <td>1976</td>\n",
       "      <td>514</td>\n",
       "    </tr>\n",
       "    <tr>\n",
       "      <th>1</th>\n",
       "      <td>1592</td>\n",
       "      <td>906</td>\n",
       "    </tr>\n",
       "  </tbody>\n",
       "</table>\n",
       "</div>"
      ],
      "text/plain": [
       "SRH_improve  False  True \n",
       "trt                      \n",
       "0             1976    514\n",
       "1             1592    906"
      ]
     },
     "execution_count": 190,
     "metadata": {},
     "output_type": "execute_result"
    }
   ],
   "source": [
    "cross_tab = pd.crosstab(df.trt, df.SRH_improve)      # contingency table of treatment against SRH improvement\n",
    "cross_tab"
   ]
  },
  {
   "cell_type": "code",
   "execution_count": 191,
   "metadata": {},
   "outputs": [
    {
     "data": {
      "text/plain": [
       "(148.76261582170275,\n",
       " 3.231690075292425e-34,\n",
       " 1,\n",
       " array([[1781.13873296,  708.86126704],\n",
       "        [1786.86126704,  711.13873296]]))"
      ]
     },
     "execution_count": 191,
     "metadata": {},
     "output_type": "execute_result"
    }
   ],
   "source": [
    "stats.chi2_contingency(cross_tab)"
   ]
  },
  {
   "cell_type": "markdown",
   "metadata": {},
   "source": [
    "The null of the subject undergoing treatment and an improvement in their health being independent is rejected. This means that there is statistical significance between the two. Which shows that the treatment had an effect on the self reported health of the individuals. "
   ]
  },
  {
   "cell_type": "markdown",
   "metadata": {},
   "source": [
    "#### Conclusion {-}"
   ]
  },
  {
   "cell_type": "code",
   "execution_count": 192,
   "metadata": {},
   "outputs": [
    {
     "name": "stdout",
     "output_type": "stream",
     "text": [
      "0.4975980784627702 0.010441767068273093\n"
     ]
    }
   ],
   "source": [
    "mean_srh_trt = np.mean(srh_diff_trt)\n",
    "mean_srh_con = np.mean(srh_diff_con)\n",
    "\n",
    "print(mean_srh_trt, mean_srh_con)"
   ]
  },
  {
   "cell_type": "markdown",
   "metadata": {},
   "source": [
    "There is almost no difference in the SRH reported of the control group. But, there is improvement in the SRH of the treatment group. The treatment makes a statistically significant difference in the SRH of individuals. "
   ]
  },
  {
   "cell_type": "markdown",
   "metadata": {},
   "source": [
    "### Task 3. Explain what you did in #2 and tell us why you decided on that method.  {-}\n",
    "**answer)** After exploratory data analysis, in task 2, hypothesis tests were done to check if there was improvement in health of the treatment group compared to the control group. <br>\n",
    "It was seen that there was statistically significant difference in the means of the weight differences of treatment group and control group. It was also seen that there was significant difference between the before weight and after weight in the treatment group. These t-tests were done to check the validity of the numerical data.<br>\n",
    "Further, it was seen that there was statistically significant difference in the SRH scores (SRH differences before and after the test) of the treatment group and control group. A t-test was used here after converting the SRH indicators to numbers. Apart from this, the subjects were categorized into two - one group who reported health improvement and the other that did not. A chi sqaure test was done to test dependence between the treatment variable and health improvement variable which showed that treatment led to better health. This test was done as the data was categorized."
   ]
  },
  {
   "cell_type": "markdown",
   "metadata": {},
   "source": [
    "### Task 4. Explain the results to the investigator. Please assume the investigator has limited statistical knowledge. Tell her whether there is or is not a treatment effect and if so, how the two groups differ with respect to their weight profiles and SRH over time. {-}"
   ]
  },
  {
   "cell_type": "markdown",
   "metadata": {},
   "source": [
    "**answer)** Overall, there is treatment effect - the group undergoing treatment is showing significant results both in weight loss as well as in Self Reported Health indicators. After treatment, the weights of the treatment group has decreased by 9kg on average while the weights of the control group has only gone down up 0.8kg. Similarly, the test subjects in the treatment group report themselves, on average, to be healthier that they were before the treatment while the test subjects in the control group report themselves, on average, to be just as healthy both before and after the treatment."
   ]
  },
  {
   "cell_type": "markdown",
   "metadata": {},
   "source": [
    "### Task5. What if the investigator wanted to evaluate 16 additional outcomes (in addition to weight and SRH)? She is curious to see if the exercise regime has an impact on body fat %, mental well-being, bone density, etc... She intends to publish the results in a high-impact journal. How would you respond to this? {-}"
   ]
  },
  {
   "cell_type": "markdown",
   "metadata": {},
   "source": [
    "**answer)** Similar statistical methods can be applied to check if the treatment makes statistically significant differences in any of those metrics as well. But, be wary of the fact that some of these metrics might show statistically significant treatment effect even when the treatment does not really make a difference simply because of randomness. It is generally advisable in research scenarios to only test the metrics which a subject matter expert from the field feels could be affected by the treatment."
   ]
  },
  {
   "cell_type": "markdown",
   "metadata": {},
   "source": [
    "### Task6. What if the two groups (treatment and control) were not randomized? How might you evaluate the intervention now? What additional information might you require, and which methods could you use? What would be your limitations? {-}"
   ]
  },
  {
   "cell_type": "markdown",
   "metadata": {},
   "source": [
    "**answer)** If the groups were not randomized, the results are not as accurate. We need more information on what the confounder is. For example, the lack of randomness could be that all males were placed in treatment groups and all females were placed in control group. Or, it could be that people from same houselholds were placed in same group. If only a small number of subjects are affected by this, the best approach is to drop the subjects that were not assigned randomly and use the same methods as above. If there is a high number of subjects affected, it might be worth considering ANCOVA (Analysis of Covariance). ANCOVA can be used to control for confounders. <br>"
   ]
  },
  {
   "cell_type": "code",
   "execution_count": null,
   "metadata": {},
   "outputs": [],
   "source": []
  }
 ],
 "metadata": {
  "kernelspec": {
   "display_name": "Python 3",
   "language": "python",
   "name": "python3"
  },
  "language_info": {
   "codemirror_mode": {
    "name": "ipython",
    "version": 3
   },
   "file_extension": ".py",
   "mimetype": "text/x-python",
   "name": "python",
   "nbconvert_exporter": "python",
   "pygments_lexer": "ipython3",
   "version": "3.6.5"
  },
  "toc": {
   "base_numbering": 1,
   "nav_menu": {},
   "number_sections": true,
   "sideBar": true,
   "skip_h1_title": false,
   "title_cell": "Table of Contents",
   "title_sidebar": "Contents",
   "toc_cell": false,
   "toc_position": {},
   "toc_section_display": true,
   "toc_window_display": false
  }
 },
 "nbformat": 4,
 "nbformat_minor": 2
}
